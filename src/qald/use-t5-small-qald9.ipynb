{
  "cells": [
    {
      "cell_type": "code",
      "execution_count": 3,
      "metadata": {
        "id": "dKV8MCK1Y12g"
      },
      "outputs": [],
      "source": [
        "# !pip install datasets transformers pandasql beautifultable -qqq"
      ]
    },
    {
      "cell_type": "code",
      "execution_count": 5,
      "metadata": {
        "id": "-oei2ojLYoHV"
      },
      "outputs": [],
      "source": [
        "prefix = \"translate english to sparql2: \"\n",
        "model_name = \"yazdipour/text-to-sparql-t5-small-qald9\""
      ]
    },
    {
      "cell_type": "code",
      "execution_count": null,
      "metadata": {},
      "outputs": [],
      "source": [
        "from transformers import pipeline, AutoModelForSeq2SeqLM, T5TokenizerFast\n",
        "model = AutoModelForSeq2SeqLM.from_pretrained(model_name).to(\"cuda\")\n",
        "tokenizer = T5TokenizerFast.from_pretrained(model_name)"
      ]
    },
    {
      "cell_type": "code",
      "execution_count": 8,
      "metadata": {},
      "outputs": [],
      "source": [
        "translator = pipeline(\n",
        "    \"translation_xx_to_yy\",\n",
        "    model=model,\n",
        "    tokenizer=tokenizer,\n",
        "    device=0 #0 for cuda, -1 for cpu\n",
        ")"
      ]
    },
    {
      "cell_type": "code",
      "execution_count": 9,
      "metadata": {},
      "outputs": [],
      "source": [
        "def replace_all(text, dict):\n",
        "    for i, j in dict.items():\n",
        "        text = text.replace(i, j)\n",
        "    return text"
      ]
    },
    {
      "cell_type": "code",
      "execution_count": 2,
      "metadata": {},
      "outputs": [],
      "source": [
        "def decode_props(qry):\n",
        "    return qry.replace(\"[\", \"{\").replace(\"]\", \"}\")"
      ]
    },
    {
      "cell_type": "code",
      "execution_count": 47,
      "metadata": {},
      "outputs": [],
      "source": [
        "def translate(q):\n",
        "    tr = translator(prefix+q, max_length=100)[0]['translation_text']\n",
        "    return tr"
      ]
    },
    {
      "cell_type": "code",
      "execution_count": 48,
      "metadata": {},
      "outputs": [],
      "source": [
        "from beautifultable import BeautifulTable\n",
        "def pretty_translate(t,q): \n",
        "    ans = translate(q)\n",
        "    table = BeautifulTable(maxwidth=140)\n",
        "    table.rows.append(['QUESTION', q])\n",
        "    table.rows.append(['Target', t])\n",
        "    table.rows.append(['RESULT', ans])\n",
        "    print(table)"
      ]
    },
    {
      "cell_type": "markdown",
      "metadata": {},
      "source": [
        "# TESTING"
      ]
    },
    {
      "cell_type": "code",
      "execution_count": 49,
      "metadata": {},
      "outputs": [
        {
          "data": {
            "text/plain": [
              "'translate english to sparql2: '"
            ]
          },
          "execution_count": 49,
          "metadata": {},
          "output_type": "execute_result"
        }
      ],
      "source": [
        "prefix"
      ]
    },
    {
      "cell_type": "code",
      "execution_count": 52,
      "metadata": {},
      "outputs": [
        {
          "data": {
            "text/plain": [
              "'select distinct ?uri where [ ?uri dbr:bill_gates dbo:date ?uri ]'"
            ]
          },
          "execution_count": 52,
          "metadata": {},
          "output_type": "execute_result"
        }
      ],
      "source": [
        "translate('How old is Bill Gates?')"
      ]
    },
    {
      "cell_type": "code",
      "execution_count": 53,
      "metadata": {},
      "outputs": [
        {
          "name": "stdout",
          "output_type": "stream",
          "text": [
            "+----------+--------------------------------------------------------------------------------+\n",
            "| QUESTION |             Who is the country for head of state of Mahmoud Abbas?             |\n",
            "+----------+--------------------------------------------------------------------------------+\n",
            "|  Target  | select distinct ?sbj where { ?sbj wdt:P35 wd:Q127998 . ?sbj wdt:P31 wd:Q6256 } |\n",
            "+----------+--------------------------------------------------------------------------------+\n",
            "|  RESULT  |  select distinct ?uri where [ ?uri dbr:Mahmoud_Abbas dbo:head_of_state ?uri ]  |\n",
            "+----------+--------------------------------------------------------------------------------+\n"
          ]
        }
      ],
      "source": [
        "pretty_translate('select distinct ?sbj where { ?sbj wdt:P35 wd:Q127998 . ?sbj wdt:P31 wd:Q6256 }','Who is the country for head of state of Mahmoud Abbas?')"
      ]
    },
    {
      "cell_type": "code",
      "execution_count": 54,
      "metadata": {},
      "outputs": [
        {
          "name": "stdout",
          "output_type": "stream",
          "text": [
            "+----------+--------------------------------------------------------------------------------+\n",
            "| QUESTION |              What country is Mahmoud Abbas the head of state of?               |\n",
            "+----------+--------------------------------------------------------------------------------+\n",
            "|  Target  | select distinct ?sbj where { ?sbj wdt:P35 wd:Q127998 . ?sbj wdt:P31 wd:Q6256 } |\n",
            "+----------+--------------------------------------------------------------------------------+\n",
            "|  RESULT  |  select distinct ?uri where [ ?uri dbr:Mahmoud_Abbas dbo:head_of_state ?uri ]  |\n",
            "+----------+--------------------------------------------------------------------------------+\n"
          ]
        }
      ],
      "source": [
        "pretty_translate('select distinct ?sbj where { ?sbj wdt:P35 wd:Q127998 . ?sbj wdt:P31 wd:Q6256 }',\"What country is Mahmoud Abbas the head of state of?\")"
      ]
    },
    {
      "cell_type": "code",
      "execution_count": 55,
      "metadata": {},
      "outputs": [
        {
          "name": "stdout",
          "output_type": "stream",
          "text": [
            "+----------+--------------------------------------------------------------------------------+\n",
            "| QUESTION |             Who is the country for head of state of Mahmoud Abbas?             |\n",
            "+----------+--------------------------------------------------------------------------------+\n",
            "|  Target  | select distinct ?sbj where { ?sbj wdt:P35 wd:Q127998 . ?sbj wdt:P31 wd:Q6256 } |\n",
            "+----------+--------------------------------------------------------------------------------+\n",
            "|  RESULT  |  select distinct ?uri where [ ?uri dbr:Mahmoud_Abbas dbo:head_of_state ?uri ]  |\n",
            "+----------+--------------------------------------------------------------------------------+\n"
          ]
        }
      ],
      "source": [
        "pretty_translate('select distinct ?sbj where { ?sbj wdt:P35 wd:Q127998 . ?sbj wdt:P31 wd:Q6256 }','Who is the country for head of state of Mahmoud Abbas?')"
      ]
    },
    {
      "cell_type": "code",
      "execution_count": 56,
      "metadata": {},
      "outputs": [
        {
          "name": "stdout",
          "output_type": "stream",
          "text": [
            "+----------+-----------------------------------------------------------------------------------------------------------+\n",
            "| QUESTION |             which female actress is the voice over on south park and is employed as a singer?             |\n",
            "+----------+-----------------------------------------------------------------------------------------------------------+\n",
            "|  Target  |             SELECT ?answer WHERE { wd:Q16538 wdt:P725 ?answer . ?answer wdt:P106 wd:Q177220}              |\n",
            "+----------+-----------------------------------------------------------------------------------------------------------+\n",
            "|  RESULT  | select distinct ?sbj where [ ?sbj wdt:voice_over wd:south_park . ?sbj wdt:instance_of wd:female_actress ] |\n",
            "+----------+-----------------------------------------------------------------------------------------------------------+\n"
          ]
        }
      ],
      "source": [
        "pretty_translate(\"SELECT ?answer WHERE { wd:Q16538 wdt:P725 ?answer . ?answer wdt:P106 wd:Q177220}\",\"Which female actress is the voice over on South Park and is employed as a singer?\".lower())"
      ]
    },
    {
      "cell_type": "code",
      "execution_count": 57,
      "metadata": {},
      "outputs": [
        {
          "name": "stdout",
          "output_type": "stream",
          "text": [
            "+----------+----------------------------------------------------------------------------------+\n",
            "| QUESTION |  Which female actress on South Park is the voice over and is used as a singer?   |\n",
            "+----------+----------------------------------------------------------------------------------+\n",
            "|  Target  | SELECT ?answer WHERE { wd:Q16538 wdt:P725 ?answer . ?answer wdt:P106 wd:Q177220} |\n",
            "+----------+----------------------------------------------------------------------------------+\n",
            "|  RESULT  |      select distinct ?uri where [ ?uri dbr:South_Park dbo:voice_over ?uri ]      |\n",
            "+----------+----------------------------------------------------------------------------------+\n"
          ]
        }
      ],
      "source": [
        "pretty_translate(\"SELECT ?answer WHERE { wd:Q16538 wdt:P725 ?answer . ?answer wdt:P106 wd:Q177220}\",\"Which female actress on South Park is the voice over and is used as a singer?\")"
      ]
    },
    {
      "cell_type": "code",
      "execution_count": 58,
      "metadata": {},
      "outputs": [
        {
          "name": "stdout",
          "output_type": "stream",
          "text": [
            "+----------+------------------------------------------------------------------------+\n",
            "| QUESTION |               Which is the PIM authority ID of Paul Erd?               |\n",
            "+----------+------------------------------------------------------------------------+\n",
            "|  Target  |     select distinct ?answer where { wd:Q173746 wdt:P3973 ?answer}      |\n",
            "+----------+------------------------------------------------------------------------+\n",
            "|  RESULT  | select distinct ?uri where [ ?uri dbr:Paul_Erd dbo:authority_ID ?uri ] |\n",
            "+----------+------------------------------------------------------------------------+\n"
          ]
        }
      ],
      "source": [
        "# Paul Erdős (Q173746)\n",
        "pretty_translate(\"select distinct ?answer where { wd:Q173746 wdt:P3973 ?answer}\",\"Which is the PIM authority ID of Paul Erd?\")"
      ]
    },
    {
      "cell_type": "code",
      "execution_count": 59,
      "metadata": {},
      "outputs": [
        {
          "name": "stdout",
          "output_type": "stream",
          "text": [
            "+----------+-------------------------------------------------------------------------------------------------------------------------------+\n",
            "| QUESTION |                                        What was the population of Somalia in 2009-0-0?                                        |\n",
            "+----------+-------------------------------------------------------------------------------------------------------------------------------+\n",
            "|  Target  |        SELECT ?obj WHERE { wd:Q1045 p:P1082 ?s . ?s ps:P1082 ?obj . ?s pq:P585 ?x filter(contains(YEAR(?x),'2009')) }         |\n",
            "+----------+-------------------------------------------------------------------------------------------------------------------------------+\n",
            "|  RESULT  | select ?obj where [ dbr:Somala dbo:population ?obj . ?obj dbo:population ?obj . ?obj dbo:population ?obj . ?obj dbo:populatio |\n",
            "|          |                                                           n ?obj ]                                                            |\n",
            "+----------+-------------------------------------------------------------------------------------------------------------------------------+\n"
          ]
        }
      ],
      "source": [
        "pretty_translate(\"SELECT ?obj WHERE { wd:Q1045 p:P1082 ?s . ?s ps:P1082 ?obj . ?s pq:P585 ?x filter(contains(YEAR(?x),'2009')) }\", \n",
        "            \"What was the population of Somalia in 2009-0-0?\")"
      ]
    },
    {
      "cell_type": "code",
      "execution_count": 60,
      "metadata": {},
      "outputs": [
        {
          "data": {
            "text/plain": [
              "'select distinct ?uri where [ dbr:human dbo:place_of_birth dbo:New_York_City ]'"
            ]
          },
          "execution_count": 60,
          "metadata": {},
          "output_type": "execute_result"
        }
      ],
      "source": [
        "translate('Humans born in New York City') #random query - answer seems correct"
      ]
    },
    {
      "cell_type": "code",
      "execution_count": 61,
      "metadata": {},
      "outputs": [
        {
          "name": "stdout",
          "output_type": "stream",
          "text": [
            "+----------+-----------------------------------------------------------------------------------------------------------------------+\n",
            "| QUESTION |                                  Are Taiko some kind of Japanese musical instrument?                                  |\n",
            "+----------+-----------------------------------------------------------------------------------------------------------------------+\n",
            "|  Target  | ASK WHERE { <http://dbpedia.org/resource/Taiko> a <http://dbpedia.org/class/yago/WikicatJapaneseMusicalInstruments> } |\n",
            "+----------+-----------------------------------------------------------------------------------------------------------------------+\n",
            "|  RESULT  |                                 ask where [ dbr:Taiko dbo:instrument dbo:type ?obj ]                                  |\n",
            "+----------+-----------------------------------------------------------------------------------------------------------------------+\n"
          ]
        }
      ],
      "source": [
        "# From QALD\n",
        "target = \"ASK WHERE { <http://dbpedia.org/resource/Taiko> a <http://dbpedia.org/class/yago/WikicatJapaneseMusicalInstruments> }\"\n",
        "q =  \"Are Taiko some kind of Japanese musical instrument?\"\n",
        "pretty_translate(target, q)"
      ]
    },
    {
      "cell_type": "code",
      "execution_count": 62,
      "metadata": {},
      "outputs": [
        {
          "name": "stdout",
          "output_type": "stream",
          "text": [
            "+----------+-------------------------------------------------------------------------------------------------------------------------------+\n",
            "| QUESTION |                                                      Who killed Caesar?                                                       |\n",
            "+----------+-------------------------------------------------------------------------------------------------------------------------------+\n",
            "|  Target  | PREFIX dct: <http://purl.org/dc/terms/> PREFIX dbc: <http://dbpedia.org/resource/Category:> SELECT DISTINCT ?uri WHERE { ?uri |\n",
            "|          |                                          dct:subject dbc:Assassins_of_Julius_Caesar }                                         |\n",
            "+----------+-------------------------------------------------------------------------------------------------------------------------------+\n",
            "|  RESULT  |                                 select distinct ?uri where [ ?uri dbr:Casin dbo:killer ?uri ]                                 |\n",
            "+----------+-------------------------------------------------------------------------------------------------------------------------------+\n"
          ]
        }
      ],
      "source": [
        "# From QALD\n",
        "target = \"PREFIX dct: <http://purl.org/dc/terms/> PREFIX dbc: <http://dbpedia.org/resource/Category:> SELECT DISTINCT ?uri WHERE { ?uri dct:subject dbc:Assassins_of_Julius_Caesar }\"\n",
        "q =  \"Who killed Caesar?\"\n",
        "pretty_translate(target, q)"
      ]
    },
    {
      "cell_type": "code",
      "execution_count": 63,
      "metadata": {},
      "outputs": [
        {
          "name": "stdout",
          "output_type": "stream",
          "text": [
            "+----------+-------------------------------------------------------------------------------------------------------------------------------+\n",
            "| QUESTION |                                           What is the highest mountain in Germany?                                            |\n",
            "+----------+-------------------------------------------------------------------------------------------------------------------------------+\n",
            "|  Target  | PREFIX rdfs: <http://www.w3.org/2000/01/rdf-schema#> PREFIX rdf: <http://www.w3.org/1999/02/22-rdf-syntax-ns#> PREFIX onto: < |\n",
            "|          |                                                http://dbpedia.org/ontology/>                                                  |\n",
            "|          | SELECT ?uri WHERE { ?uri rdf:type onto:Mountain ; onto:elevation ?elevation ; onto:locatedInArea <http://dbpedia.org/resource |\n",
            "|          |                                         /Germany> } ORDER BY DESC(?elevation) LIMIT 1                                         |\n",
            "+----------+-------------------------------------------------------------------------------------------------------------------------------+\n",
            "|  RESULT  |                          select distinct ?uri where [ ?uri dbr:Mountain dbo:highest_mountain ?uri ]                           |\n",
            "+----------+-------------------------------------------------------------------------------------------------------------------------------+\n"
          ]
        }
      ],
      "source": [
        "# From QALD\n",
        "q = 'What is the highest mountain in Germany?'\n",
        "target = \"PREFIX rdfs: <http://www.w3.org/2000/01/rdf-schema#> PREFIX rdf: <http://www.w3.org/1999/02/22-rdf-syntax-ns#> PREFIX onto: <http://dbpedia.org/ontology/>  \\nSELECT ?uri WHERE { ?uri rdf:type onto:Mountain ; onto:elevation ?elevation ; onto:locatedInArea <http://dbpedia.org/resource/Germany> } ORDER BY DESC(?elevation) LIMIT 1\"\n",
        "pretty_translate(target, q)"
      ]
    },
    {
      "cell_type": "code",
      "execution_count": 64,
      "metadata": {},
      "outputs": [
        {
          "name": "stdout",
          "output_type": "stream",
          "text": [
            "+----------+-------------------------------------------------------------------------------------------------------------------------------+\n",
            "| QUESTION |                               Which American presidents were in office during the Vietnam War?                                |\n",
            "+----------+-------------------------------------------------------------------------------------------------------------------------------+\n",
            "|  Target  | PREFIX dbo: <http://dbpedia.org/ontology/> PREFIX res: <http://dbpedia.org/resource/> PREFIX dct: <http://purl.org/dc/terms/> |\n",
            "|          |  PREFIX dbc: <http://dbpedia.org/resource/Category:> SELECT ?uri WHERE { ?uri dct:subject dbc:Presidents_of_the_United_States |\n",
            "|          |                                             . res:Vietnam_War dbo:commander ?uri }                                            |\n",
            "+----------+-------------------------------------------------------------------------------------------------------------------------------+\n",
            "|  RESULT  |                          select distinct ?uri where [ ?uri dbr:American_President dbo:officer ?uri ]                          |\n",
            "+----------+-------------------------------------------------------------------------------------------------------------------------------+\n"
          ]
        }
      ],
      "source": [
        "# From QALD\n",
        "q = 'Which American presidents were in office during the Vietnam War?'\n",
        "target = \"PREFIX dbo: <http://dbpedia.org/ontology/> PREFIX res: <http://dbpedia.org/resource/> PREFIX dct: <http://purl.org/dc/terms/> PREFIX dbc: <http://dbpedia.org/resource/Category:> SELECT ?uri WHERE { ?uri dct:subject dbc:Presidents_of_the_United_States . res:Vietnam_War dbo:commander ?uri }\"\n",
        "pretty_translate(target, q)"
      ]
    },
    {
      "cell_type": "code",
      "execution_count": 65,
      "metadata": {},
      "outputs": [
        {
          "name": "stdout",
          "output_type": "stream",
          "text": [
            "+----------+-------------------------------------------------------------------------------------------------------------------------------+\n",
            "| QUESTION |                               How many gold medals did Michael Phelps win at the 2008 Olympics?                               |\n",
            "+----------+-------------------------------------------------------------------------------------------------------------------------------+\n",
            "|  Target  | PREFIX dbo: <http://dbpedia.org/ontology/> PREFIX dbr: <http://dbpedia.org/resource/> PREFIX rdf: <http://www.w3.org/1999/02/ |\n",
            "|          | 22-rdf-syntax-ns#> PREFIX rdfs: <http://www.w3.org/2000/01/rdf-schema#> SELECT Count(?sub) as ?c WHERE { ?sub dbo:goldMedalis |\n",
            "|          |              t dbr:Michael_Phelps . filter (contains (str(?sub), \"2008\") && contains (str(?sub), \"Olympics\")) }               |\n",
            "+----------+-------------------------------------------------------------------------------------------------------------------------------+\n",
            "|  RESULT  |     select distinct ?obj where [ dbr:Michael_Phelps dbo:award_received ?obj . ?obj dbo:award_received dbo:2008_Olympics ]     |\n",
            "+----------+-------------------------------------------------------------------------------------------------------------------------------+\n"
          ]
        }
      ],
      "source": [
        "# From QALD\n",
        "q = 'How many gold medals did Michael Phelps win at the 2008 Olympics?'\n",
        "target = \"PREFIX dbo: <http://dbpedia.org/ontology/> PREFIX dbr: <http://dbpedia.org/resource/> PREFIX rdf: <http://www.w3.org/1999/02/22-rdf-syntax-ns#> PREFIX rdfs: <http://www.w3.org/2000/01/rdf-schema#> SELECT Count(?sub) as ?c WHERE { ?sub dbo:goldMedalist dbr:Michael_Phelps . filter (contains (str(?sub), \\\"2008\\\") && contains (str(?sub), \\\"Olympics\\\")) }\"\n",
        "pretty_translate(target, q)"
      ]
    },
    {
      "cell_type": "code",
      "execution_count": 66,
      "metadata": {},
      "outputs": [
        {
          "name": "stdout",
          "output_type": "stream",
          "text": [
            "+----------+-------------------------------------------------------------------------------------------------------------------------------+\n",
            "| QUESTION |                                           What is the profession of Frank Herbert?                                            |\n",
            "+----------+-------------------------------------------------------------------------------------------------------------------------------+\n",
            "|  Target  | PREFIX dbpedia2: <http://dbpedia.org/property/> PREFIX res: <http://dbpedia.org/resource/> SELECT DISTINCT ?string WHERE { re |\n",
            "|          |                                         s:Frank_Herbert dbpedia2:occupation ?string }                                         |\n",
            "+----------+-------------------------------------------------------------------------------------------------------------------------------+\n",
            "|  RESULT  |                           select distinct ?uri where [ ?uri dbr:Frank_Horror dbo:occupation ?uri ]                            |\n",
            "+----------+-------------------------------------------------------------------------------------------------------------------------------+\n"
          ]
        }
      ],
      "source": [
        "# From QALD\n",
        "q = 'What is the profession of Frank Herbert?'\n",
        "target = \"PREFIX dbpedia2: <http://dbpedia.org/property/> PREFIX res: <http://dbpedia.org/resource/> SELECT DISTINCT ?string WHERE { res:Frank_Herbert dbpedia2:occupation ?string }\"\n",
        "pretty_translate(target, q)"
      ]
    },
    {
      "cell_type": "code",
      "execution_count": 67,
      "metadata": {},
      "outputs": [
        {
          "name": "stdout",
          "output_type": "stream",
          "text": [
            "+----------+-------------------------------------------------------------------------------------------------------------------------------+\n",
            "| QUESTION |                                    How many seats does the home stadium of FC Porto have?                                     |\n",
            "+----------+-------------------------------------------------------------------------------------------------------------------------------+\n",
            "|  Target  | PREFIX dbo: <http://dbpedia.org/ontology/> PREFIX dbp: <http://dbpedia.org/property/> PREFIX dbr: <http://dbpedia.org/resourc |\n",
            "|          | e/> PREFIX rdf: <http://www.w3.org/1999/02/22-rdf-syntax-ns#> PREFIX rdfs: <http://www.w3.org/2000/01/rdf-schema#> PREFIX db: |\n",
            "|          |  <http://dbpedia.org/> SELECT ?capacity WHERE { { dbr:FC_Porto dbo:ground ?ground . ?ground dbo:capacity ?capacity } UNION {  |\n",
            "|          |                             dbr:FC_Porto dbo:ground ?ground . ?ground dbp:capacity ?capacity } }                              |\n",
            "+----------+-------------------------------------------------------------------------------------------------------------------------------+\n",
            "|  RESULT  |                            select (COUNT(?obj) AS ?value ) [ dbr:Fc_Porto dbo:home_stadium ?obj ]                             |\n",
            "+----------+-------------------------------------------------------------------------------------------------------------------------------+\n"
          ]
        }
      ],
      "source": [
        "# From QALD\n",
        "q = 'How many seats does the home stadium of FC Porto have?'\n",
        "target = \"PREFIX dbo: <http://dbpedia.org/ontology/> PREFIX dbp: <http://dbpedia.org/property/> PREFIX dbr: <http://dbpedia.org/resource/> PREFIX rdf: <http://www.w3.org/1999/02/22-rdf-syntax-ns#> PREFIX rdfs: <http://www.w3.org/2000/01/rdf-schema#> PREFIX db: <http://dbpedia.org/> SELECT ?capacity WHERE { { dbr:FC_Porto dbo:ground ?ground . ?ground dbo:capacity ?capacity } UNION { dbr:FC_Porto dbo:ground ?ground . ?ground dbp:capacity ?capacity } }\"\n",
        "pretty_translate(target, q)"
      ]
    },
    {
      "cell_type": "code",
      "execution_count": 68,
      "metadata": {},
      "outputs": [
        {
          "name": "stdout",
          "output_type": "stream",
          "text": [
            "+----------+-------------------------------------------------------------------------------------------------------------------------------+\n",
            "| QUESTION |                                      Which frequent flyer program has the most airlines?                                      |\n",
            "+----------+-------------------------------------------------------------------------------------------------------------------------------+\n",
            "|  Target  | SELECT ?uri WHERE { ?airline <http://www.w3.org/1999/02/22-rdf-syntax-ns#type> <http://dbpedia.org/ontology/Airline> . ?airli |\n",
            "|          | ne <http://dbpedia.org/property/frequentFlyer> ?uri. } GROUP BY ?uri ORDER BY DESC(COUNT(DISTINCT ?airline)) OFFSET 0 LIMIT 1 |\n",
            "+----------+-------------------------------------------------------------------------------------------------------------------------------+\n",
            "|  RESULT  |         select distinct ?uri where [ ?uri dbr:Frequent_Flyer_Programm dbo:Airlines ?uri ] order BY DESC(?uri )limit 5         |\n",
            "+----------+-------------------------------------------------------------------------------------------------------------------------------+\n"
          ]
        }
      ],
      "source": [
        "# From QALD\n",
        "q = 'Which frequent flyer program has the most airlines?'\n",
        "target = \"SELECT ?uri WHERE { ?airline <http://www.w3.org/1999/02/22-rdf-syntax-ns#type> <http://dbpedia.org/ontology/Airline> . ?airline <http://dbpedia.org/property/frequentFlyer> ?uri. } GROUP BY ?uri ORDER BY DESC(COUNT(DISTINCT ?airline)) OFFSET 0 LIMIT 1\"\n",
        "pretty_translate(target, q)"
      ]
    },
    {
      "cell_type": "code",
      "execution_count": 69,
      "metadata": {},
      "outputs": [
        {
          "name": "stdout",
          "output_type": "stream",
          "text": [
            "+----------+-------------------------------------------------------------------------------------------------------------------------------+\n",
            "| QUESTION |                                   Which European countries have a constitutional monarchy?                                    |\n",
            "+----------+-------------------------------------------------------------------------------------------------------------------------------+\n",
            "|  Target  | PREFIX dbo: <http://dbpedia.org/ontology/> PREFIX dct: <http://purl.org/dc/terms/> PREFIX dbc: <http://dbpedia.org/resource/C |\n",
            "|          | ategory:> PREFIX dbr: <http://dbpedia.org/resource/> SELECT ?uri WHERE { ?uri dct:subject dbc:Countries_in_Europe ; dbo:gover |\n",
            "|          |                                            nmentType dbr:Constitutional_monarchy }                                            |\n",
            "+----------+-------------------------------------------------------------------------------------------------------------------------------+\n",
            "|  RESULT  |                   select distinct ?uri where [ ?uri dbr:European_country dbo:constitutional_Monarchy ?uri ]                   |\n",
            "+----------+-------------------------------------------------------------------------------------------------------------------------------+\n"
          ]
        }
      ],
      "source": [
        "# From QALD\n",
        "q = 'Which European countries have a constitutional monarchy?'\n",
        "target = \"PREFIX dbo: <http://dbpedia.org/ontology/> PREFIX dct: <http://purl.org/dc/terms/> PREFIX dbc: <http://dbpedia.org/resource/Category:> PREFIX dbr: <http://dbpedia.org/resource/> SELECT ?uri WHERE { ?uri dct:subject dbc:Countries_in_Europe ; dbo:governmentType dbr:Constitutional_monarchy }\"\n",
        "pretty_translate(target, q)"
      ]
    },
    {
      "cell_type": "code",
      "execution_count": 70,
      "metadata": {},
      "outputs": [
        {
          "name": "stdout",
          "output_type": "stream",
          "text": [
            "+----------+-------------------------------------------------------------------------------------------------------------------------------+\n",
            "| QUESTION |                                     Which countries have places with more than two caves?                                     |\n",
            "+----------+-------------------------------------------------------------------------------------------------------------------------------+\n",
            "|  Target  | PREFIX dbo: <http://dbpedia.org/ontology/> PREFIX rdf: <http://www.w3.org/1999/02/22-rdf-syntax-ns#> SELECT DISTINCT ?uri WHE |\n",
            "|          |   RE { ?cave rdf:type dbo:Cave ; dbo:location ?uri . ?uri rdf:type dbo:Country } GROUP BY ?uri HAVING ( COUNT(?cave) > 2 )    |\n",
            "+----------+-------------------------------------------------------------------------------------------------------------------------------+\n",
            "|  RESULT  |                                select distinct ?uri where [ ?uri dbr:country dbo:place ?uri ]                                 |\n",
            "+----------+-------------------------------------------------------------------------------------------------------------------------------+\n"
          ]
        }
      ],
      "source": [
        "# From QALD\n",
        "q = 'Which countries have places with more than two caves?'\n",
        "target = \"PREFIX dbo: <http://dbpedia.org/ontology/> PREFIX rdf: <http://www.w3.org/1999/02/22-rdf-syntax-ns#> SELECT DISTINCT ?uri WHERE { ?cave rdf:type dbo:Cave ; dbo:location ?uri . ?uri rdf:type dbo:Country } GROUP BY ?uri HAVING ( COUNT(?cave) > 2 )\"\n",
        "pretty_translate(target, q)"
      ]
    },
    {
      "cell_type": "code",
      "execution_count": 71,
      "metadata": {},
      "outputs": [
        {
          "name": "stdout",
          "output_type": "stream",
          "text": [
            "+----------+-------------------------------------------------------------------------------------------------------------------------------+\n",
            "| QUESTION |                                        Which airports are located in California, USA?                                         |\n",
            "+----------+-------------------------------------------------------------------------------------------------------------------------------+\n",
            "|  Target  | SELECT DISTINCT ?uri WHERE { ?uri a <http://dbpedia.org/ontology/Airport> { ?uri <http://dbpedia.org/ontology/location> <http |\n",
            "|          | ://dbpedia.org/resource/California> } UNION { ?uri <http://dbpedia.org/ontology/city> <http://dbpedia.org/resource/California |\n",
            "|          | > } UNION { ?uri <http://dbpedia.org/ontology/city> ?city . ?city <http://dbpedia.org/ontology/isPartOf> <http://dbpedia.org/ |\n",
            "|          |    resource/California> } UNION { ?uri <http://dbpedia.org/ontology/operator> <http://dbpedia.org/resource/California> } }    |\n",
            "+----------+-------------------------------------------------------------------------------------------------------------------------------+\n",
            "|  RESULT  |                    select distinct ?uri where [ ?uri dbo:location dbo:Caribbean . ?uri dbo:location ?uri ]                    |\n",
            "+----------+-------------------------------------------------------------------------------------------------------------------------------+\n"
          ]
        }
      ],
      "source": [
        "# From QALD\n",
        "q = 'Which airports are located in California, USA?'\n",
        "target = \"SELECT DISTINCT ?uri WHERE { ?uri a <http://dbpedia.org/ontology/Airport> { ?uri <http://dbpedia.org/ontology/location> <http://dbpedia.org/resource/California> } UNION { ?uri <http://dbpedia.org/ontology/city> <http://dbpedia.org/resource/California> } UNION { ?uri <http://dbpedia.org/ontology/city> ?city . ?city <http://dbpedia.org/ontology/isPartOf> <http://dbpedia.org/resource/California> } UNION { ?uri <http://dbpedia.org/ontology/operator> <http://dbpedia.org/resource/California> } }\"\n",
        "pretty_translate(target, q)"
      ]
    },
    {
      "cell_type": "code",
      "execution_count": 72,
      "metadata": {},
      "outputs": [
        {
          "name": "stdout",
          "output_type": "stream",
          "text": [
            "+----------+-----------------------------------------------------------------------+\n",
            "| QUESTION |               What are the nicknames of San Francisco?                |\n",
            "+----------+-----------------------------------------------------------------------+\n",
            "|  Target  | SELECT DISTINCT ?string WHERE { res:San_Francisco foaf:nick ?string } |\n",
            "+----------+-----------------------------------------------------------------------+\n",
            "|  RESULT  |   select distinct ?uri where [ ?uri dbr:San_Francio dbo:name ?uri ]   |\n",
            "+----------+-----------------------------------------------------------------------+\n"
          ]
        }
      ],
      "source": [
        "# From QALD\n",
        "q = \"What are the nicknames of San Francisco?\"\n",
        "target = \"SELECT DISTINCT ?string WHERE { res:San_Francisco foaf:nick ?string }\"\n",
        "pretty_translate(target, q)"
      ]
    },
    {
      "cell_type": "code",
      "execution_count": 73,
      "metadata": {},
      "outputs": [
        {
          "name": "stdout",
          "output_type": "stream",
          "text": [
            "+----------+---------------------------------------------------------------------------+\n",
            "| QUESTION |                    What is Angela Merkel’s birth name?                    |\n",
            "+----------+---------------------------------------------------------------------------+\n",
            "|  Target  | SELECT DISTINCT ?string WHERE { res:Angela_Merkel dbp:birthName ?string } |\n",
            "+----------+---------------------------------------------------------------------------+\n",
            "|  RESULT  |    select distinct ?sbj where [ ?sbj wdt:birth_name wd:angela_franca ]    |\n",
            "+----------+---------------------------------------------------------------------------+\n"
          ]
        }
      ],
      "source": [
        "# From QALD\n",
        "q = \"What is Angela Merkel’s birth name?\"\n",
        "target = \"SELECT DISTINCT ?string WHERE { res:Angela_Merkel dbp:birthName ?string }\"\n",
        "pretty_translate(target, q)"
      ]
    },
    {
      "cell_type": "code",
      "execution_count": 74,
      "metadata": {},
      "outputs": [
        {
          "name": "stdout",
          "output_type": "stream",
          "text": [
            "+----------+----------------------------------------------------------------------------+\n",
            "| QUESTION |                        Who is the mayor of Berlin?                         |\n",
            "+----------+----------------------------------------------------------------------------+\n",
            "|  Target  |         SELECT DISTINCT ?uri WHERE { res:Berlin dbp:leader ?uri }          |\n",
            "+----------+----------------------------------------------------------------------------+\n",
            "|  RESULT  | select distinct ?uri where [ ?uri dbr:Berlin dbo:head_of_government ?uri ] |\n",
            "+----------+----------------------------------------------------------------------------+\n"
          ]
        }
      ],
      "source": [
        "# From QALD\n",
        "q = \"Who is the mayor of Berlin?\"\n",
        "target = \"SELECT DISTINCT ?uri WHERE { res:Berlin dbp:leader ?uri }\"\n",
        "pretty_translate(target, q)"
      ]
    },
    {
      "cell_type": "code",
      "execution_count": 75,
      "metadata": {},
      "outputs": [
        {
          "name": "stdout",
          "output_type": "stream",
          "text": [
            "+----------+-------------------------------------------------------------------------------------------------------------------------------+\n",
            "| QUESTION |                                  Which software has been published by Mean Hamster Software?                                  |\n",
            "+----------+-------------------------------------------------------------------------------------------------------------------------------+\n",
            "|  Target  | SELECT DISTINCT ?uri WHERE { ?uri rdf:type onto:Software { ?uri prop:publisher \"Mean Hamster Software\"@en } UNION { ?uri onto |\n",
            "|          |                                           :publisher res:Mean_Hamster_Software } }                                            |\n",
            "+----------+-------------------------------------------------------------------------------------------------------------------------------+\n",
            "|  RESULT  |                      select distinct ?uri where [ ?uri dbo:publication_software dbo:published_by ?uri ]                       |\n",
            "+----------+-------------------------------------------------------------------------------------------------------------------------------+\n"
          ]
        }
      ],
      "source": [
        "# From QALD\n",
        "q = \"Which software has been published by Mean Hamster Software?\"\n",
        "target = \"SELECT DISTINCT ?uri WHERE { ?uri rdf:type onto:Software { ?uri prop:publisher \\\"Mean Hamster Software\\\"@en } UNION { ?uri onto:publisher res:Mean_Hamster_Software } }\"\n",
        "pretty_translate(target, q)"
      ]
    },
    {
      "cell_type": "code",
      "execution_count": 76,
      "metadata": {},
      "outputs": [
        {
          "name": "stdout",
          "output_type": "stream",
          "text": [
            "+----------+-------------------------------------------------------------------------------------------------------------------------------+\n",
            "| QUESTION |                                             Which country was Bill Gates born in?                                             |\n",
            "+----------+-------------------------------------------------------------------------------------------------------------------------------+\n",
            "|  Target  | SELECT DISTINCT ?country WHERE { { dbr:Bill_Gates dbo:birthPlace ?birthPlace . ?birthPlace dbo:country ?country } UNION { dbr |\n",
            "|          |          :Bill_Gates dbo:birthPlace ?birthPlace . ?birthPlace dbo:isPartOf ?place . ?place dbo:country ?country } }           |\n",
            "+----------+-------------------------------------------------------------------------------------------------------------------------------+\n",
            "|  RESULT  |                              select distinct ?uri where [ ?uri dbr:bill_gates dbo:country ?uri ]                              |\n",
            "+----------+-------------------------------------------------------------------------------------------------------------------------------+\n"
          ]
        }
      ],
      "source": [
        "# From QALD\n",
        "q = \"Which country was Bill Gates born in?\"\n",
        "target = \"SELECT DISTINCT ?country WHERE { { dbr:Bill_Gates dbo:birthPlace ?birthPlace . ?birthPlace dbo:country ?country } UNION { dbr:Bill_Gates dbo:birthPlace ?birthPlace . ?birthPlace dbo:isPartOf ?place . ?place dbo:country ?country } }\"\n",
        "pretty_translate(target, q)"
      ]
    },
    {
      "cell_type": "code",
      "execution_count": 77,
      "metadata": {},
      "outputs": [
        {
          "name": "stdout",
          "output_type": "stream",
          "text": [
            "+----------+-------------------------------------------------------------------------------------------------------------------------------+\n",
            "| QUESTION |                                      How many grand-children did Jacques Cousteau have?                                       |\n",
            "+----------+-------------------------------------------------------------------------------------------------------------------------------+\n",
            "|  Target  | SELECT COUNT(DISTINCT ?y AS ?y) WHERE { <http://dbpedia.org/resource/Jacques_Cousteau> <http://dbpedia.org/ontology/child> ?x |\n",
            "|          |                                        . ?x <http://dbpedia.org/ontology/child> ?y . }                                        |\n",
            "+----------+-------------------------------------------------------------------------------------------------------------------------------+\n",
            "|  RESULT  |                        select distinct ?uri where [ ?uri dbr:James_Coursteau dbo:grand-children ?uri ]                        |\n",
            "+----------+-------------------------------------------------------------------------------------------------------------------------------+\n"
          ]
        }
      ],
      "source": [
        "# From QALD\n",
        "q = \"How many grand-children did Jacques Cousteau have?\"\n",
        "target = \"SELECT COUNT(DISTINCT ?y AS ?y) WHERE { <http://dbpedia.org/resource/Jacques_Cousteau> <http://dbpedia.org/ontology/child> ?x . ?x <http://dbpedia.org/ontology/child> ?y . }\"\n",
        "pretty_translate(target, q)"
      ]
    },
    {
      "cell_type": "code",
      "execution_count": 78,
      "metadata": {},
      "outputs": [
        {
          "name": "stdout",
          "output_type": "stream",
          "text": [
            "+----------+-------------------------------------------------------------------------------------------------------------------------------+\n",
            "| QUESTION |                                      Give me all professional skateboarders from Sweden.                                      |\n",
            "+----------+-------------------------------------------------------------------------------------------------------------------------------+\n",
            "|  Target  | SELECT DISTINCT ?uri WHERE { ?uri dbo:occupation dbr:Skateboarder { ?uri dbo:birthPlace dbr:Sweden } UNION { ?uri dbo:birthPl |\n",
            "|          |                                        ace ?place . ?place dbo:country dbr:Sweden } }                                         |\n",
            "+----------+-------------------------------------------------------------------------------------------------------------------------------+\n",
            "|  RESULT  |                            select distinct ?uri where [ ?uri dbr:Skiboarder dbo:profession ?uri ]                             |\n",
            "+----------+-------------------------------------------------------------------------------------------------------------------------------+\n"
          ]
        }
      ],
      "source": [
        "# From QALD\n",
        "q = \"Give me all professional skateboarders from Sweden.\"\n",
        "target = \"SELECT DISTINCT ?uri WHERE { ?uri dbo:occupation dbr:Skateboarder { ?uri dbo:birthPlace dbr:Sweden } UNION { ?uri dbo:birthPlace ?place . ?place dbo:country dbr:Sweden } }\"\n",
        "pretty_translate(target, q)"
      ]
    },
    {
      "cell_type": "code",
      "execution_count": 79,
      "metadata": {},
      "outputs": [
        {
          "name": "stdout",
          "output_type": "stream",
          "text": [
            "+----------+-------------------------------------------------------------------------------------------------------------------------------+\n",
            "| QUESTION |                                Which monarchs of the United Kingdom were married to a German?                                 |\n",
            "+----------+-------------------------------------------------------------------------------------------------------------------------------+\n",
            "|  Target  | SELECT DISTINCT ?uri WHERE { ?uri rdf:type yago:WikicatMonarchsOfTheUnitedKingdom ; dbo:spouse ?spouse . ?spouse dbo:birthPla |\n",
            "|          |                                                       ce res:Germany }                                                        |\n",
            "+----------+-------------------------------------------------------------------------------------------------------------------------------+\n",
            "|  RESULT  |                    select distinct ?uri where [ ?uri dbr:Monarchs_of_the_united_kingdom dbo:spouse ?uri ]                     |\n",
            "+----------+-------------------------------------------------------------------------------------------------------------------------------+\n"
          ]
        }
      ],
      "source": [
        "# From QALD\n",
        "q = \"Which monarchs of the United Kingdom were married to a German?\"\n",
        "target = \"SELECT DISTINCT ?uri WHERE { ?uri rdf:type yago:WikicatMonarchsOfTheUnitedKingdom ; dbo:spouse ?spouse . ?spouse dbo:birthPlace res:Germany }\"\n",
        "pretty_translate(target, q)"
      ]
    },
    {
      "cell_type": "code",
      "execution_count": 80,
      "metadata": {},
      "outputs": [
        {
          "name": "stdout",
          "output_type": "stream",
          "text": [
            "+----------+-------------------------------------------------------------------------------------------------------------------------------+\n",
            "| QUESTION |                                                 Give me all Argentine films.                                                  |\n",
            "+----------+-------------------------------------------------------------------------------------------------------------------------------+\n",
            "|  Target  | SELECT DISTINCT ?uri WHERE { { ?uri rdf:type yago:ArgentineFilms } UNION { ?uri rdf:type dbo:Film { ?uri dbo:country res:Arge |\n",
            "|          |                                     ntina } UNION { ?uri dbp:country \"Argentina\"@en } } }                                     |\n",
            "+----------+-------------------------------------------------------------------------------------------------------------------------------+\n",
            "|  RESULT  |                               select distinct ?uri where [ ?uri dbr:Argentine dbo:films ?uri ]                                |\n",
            "+----------+-------------------------------------------------------------------------------------------------------------------------------+\n"
          ]
        }
      ],
      "source": [
        "# From QALD\n",
        "q = \"Give me all Argentine films.\"\n",
        "target = \"SELECT DISTINCT ?uri WHERE { { ?uri rdf:type yago:ArgentineFilms } UNION { ?uri rdf:type dbo:Film { ?uri dbo:country res:Argentina } UNION { ?uri dbp:country \\\"Argentina\\\"@en } } }\"\n",
        "pretty_translate(target, q)"
      ]
    },
    {
      "cell_type": "code",
      "execution_count": 81,
      "metadata": {},
      "outputs": [
        {
          "name": "stdout",
          "output_type": "stream",
          "text": [
            "+----------+------------------------------------------------------------------------------------------------------------------------+\n",
            "| QUESTION |                                              How did Michael Jackson die?                                              |\n",
            "+----------+------------------------------------------------------------------------------------------------------------------------+\n",
            "|  Target  | SELECT DISTINCT ?s WHERE { <http://dbpedia.org/resource/Michael_Jackson> <http://dbpedia.org/property/deathCause> ?s } |\n",
            "+----------+------------------------------------------------------------------------------------------------------------------------+\n",
            "|  RESULT  |                            select distinct ?uri where [ dbr:Michael_James dbo:death ?uri ]                             |\n",
            "+----------+------------------------------------------------------------------------------------------------------------------------+\n"
          ]
        }
      ],
      "source": [
        "# From QALD\n",
        "q = \"How did Michael Jackson die?\"\n",
        "target = \"SELECT DISTINCT ?s WHERE { <http://dbpedia.org/resource/Michael_Jackson> <http://dbpedia.org/property/deathCause> ?s }\"\n",
        "pretty_translate(target, q)"
      ]
    },
    {
      "cell_type": "code",
      "execution_count": 82,
      "metadata": {},
      "outputs": [
        {
          "name": "stdout",
          "output_type": "stream",
          "text": [
            "+----------+--------------------------------------------------------------------------+\n",
            "| QUESTION |                     Where did Michael Jackson died?                      |\n",
            "+----------+--------------------------------------------------------------------------+\n",
            "|  Target  |                                    .                                     |\n",
            "+----------+--------------------------------------------------------------------------+\n",
            "|  RESULT  | select distinct ?uri where [ dbr:Michael_James dbo:place_of_death ?uri ] |\n",
            "+----------+--------------------------------------------------------------------------+\n"
          ]
        }
      ],
      "source": [
        "# From QALD\n",
        "q = \"Where did Michael Jackson died?\"\n",
        "target = \".\"\n",
        "pretty_translate(target, q)"
      ]
    },
    {
      "cell_type": "code",
      "execution_count": 83,
      "metadata": {},
      "outputs": [
        {
          "name": "stdout",
          "output_type": "stream",
          "text": [
            "+----------+-------------------------------------------------------------------+\n",
            "| QUESTION |            Which classes does the Millepede belong to?            |\n",
            "+----------+-------------------------------------------------------------------+\n",
            "|  Target  | SELECT DISTINCT ?String WHERE { res:Millipede dbp:taxon ?String } |\n",
            "+----------+-------------------------------------------------------------------+\n",
            "|  RESULT  | select distinct ?uri where [ ?uri dbr:Millepede dbo:class ?uri ]  |\n",
            "+----------+-------------------------------------------------------------------+\n"
          ]
        }
      ],
      "source": [
        "# From QALD\n",
        "q = \"Which classes does the Millepede belong to?\"\n",
        "target = \"SELECT DISTINCT ?String WHERE { res:Millipede dbp:taxon ?String }\"\n",
        "pretty_translate(target, q)"
      ]
    }
  ],
  "metadata": {
    "colab": {
      "name": "seq2seq-t5-use.ipynb",
      "provenance": []
    },
    "interpreter": {
      "hash": "e7370f93d1d0cde622a1f8e1c04877d8463912d04d973331ad4851f04de6915a"
    },
    "kernelspec": {
      "display_name": "Python 3.8.5 64-bit",
      "name": "python3"
    },
    "language_info": {
      "codemirror_mode": {
        "name": "ipython",
        "version": 3
      },
      "file_extension": ".py",
      "mimetype": "text/x-python",
      "name": "python",
      "nbconvert_exporter": "python",
      "pygments_lexer": "ipython3",
      "version": "3.8.5"
    },
    "orig_nbformat": 4
  },
  "nbformat": 4,
  "nbformat_minor": 2
}
