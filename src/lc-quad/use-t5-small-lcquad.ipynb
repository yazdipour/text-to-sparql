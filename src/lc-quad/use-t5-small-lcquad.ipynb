{
  "cells": [
    {
      "cell_type": "code",
      "execution_count": 2,
      "metadata": {
        "id": "dKV8MCK1Y12g"
      },
      "outputs": [],
      "source": [
        "# !pip install datasets transformers pandasql beautifultable -qqq\n",
        "# torch.cuda.empty_cache()"
      ]
    },
    {
      "cell_type": "code",
      "execution_count": 3,
      "metadata": {},
      "outputs": [],
      "source": [
        "import pandas as pd\n",
        "import re"
      ]
    },
    {
      "cell_type": "code",
      "execution_count": 4,
      "metadata": {
        "id": "-oei2ojLYoHV"
      },
      "outputs": [],
      "source": [
        "prefix = \"translate english to sparql: \"\n",
        "model_name = \"yazdipour/text-to-sparql-t5-small-2021-10-19_10-17_lastDS\""
      ]
    },
    {
      "cell_type": "code",
      "execution_count": 5,
      "metadata": {},
      "outputs": [],
      "source": [
        "from transformers import pipeline, AutoTokenizer, AutoModelForSeq2SeqLM, T5TokenizerFast\n",
        "model = AutoModelForSeq2SeqLM.from_pretrained(model_name).to(\"cuda\")"
      ]
    },
    {
      "cell_type": "code",
      "execution_count": 6,
      "metadata": {},
      "outputs": [],
      "source": [
        "# tokenizer = AutoTokenizer.from_pretrained(model_name)\n",
        "tokenizer = T5TokenizerFast.from_pretrained(model_name)\n",
        "# tokenizer = T5TokenizerFast.from_pretrained(model_name, src_lang=\"en\", tgt_lang=\"sparql\")"
      ]
    },
    {
      "cell_type": "code",
      "execution_count": 7,
      "metadata": {},
      "outputs": [],
      "source": [
        "translator = pipeline(\n",
        "    \"translation_xx_to_yy\",\n",
        "    model=model,\n",
        "    tokenizer=tokenizer,\n",
        "    device=0 #0 for cuda, -1 for cpu\n",
        ")"
      ]
    },
    {
      "cell_type": "code",
      "execution_count": 8,
      "metadata": {},
      "outputs": [],
      "source": [
        "def replace_all(text, dict):\n",
        "    for i, j in dict.items():\n",
        "        text = text.replace(i, j)\n",
        "    return text"
      ]
    },
    {
      "cell_type": "code",
      "execution_count": 9,
      "metadata": {},
      "outputs": [],
      "source": [
        "kdwd_date = '2021-10-11'\n",
        "df_q = pd.read_csv(f'../../../data/kdwd/{kdwd_date}/q.csv')\n",
        "df_p = pd.read_csv(f'../../../data/kdwd/{kdwd_date}/p.csv')"
      ]
    },
    {
      "cell_type": "code",
      "execution_count": null,
      "metadata": {},
      "outputs": [
        {
          "ename": "Error",
          "evalue": "Session cannot generate requests",
          "output_type": "error",
          "traceback": [
            "Error: Session cannot generate requests",
            "at w.executeCodeCell (/home/shyaz/.vscode-server/extensions/ms-toolsai.jupyter-2021.9.1101343141/out/client/extension.js:52:301180)",
            "at w.execute (/home/shyaz/.vscode-server/extensions/ms-toolsai.jupyter-2021.9.1101343141/out/client/extension.js:52:300551)",
            "at w.start (/home/shyaz/.vscode-server/extensions/ms-toolsai.jupyter-2021.9.1101343141/out/client/extension.js:52:296215)",
            "at runMicrotasks (<anonymous>)",
            "at processTicksAndRejections (internal/process/task_queues.js:93:5)",
            "at t.CellExecutionQueue.executeQueuedCells (/home/shyaz/.vscode-server/extensions/ms-toolsai.jupyter-2021.9.1101343141/out/client/extension.js:52:310950)",
            "at t.CellExecutionQueue.start (/home/shyaz/.vscode-server/extensions/ms-toolsai.jupyter-2021.9.1101343141/out/client/extension.js:52:310490)"
          ]
        }
      ],
      "source": [
        "def findID(pref, x):\n",
        "    word = x.replace(\"_\", \" \").lower()\n",
        "    try:\n",
        "        if 'wd' != pref:\n",
        "            # s = df_p[df_p.en.str.contains(word, na=False)]\n",
        "            s = df_p[df_p['en']==word]\n",
        "            if len(s)>0:\n",
        "                id = s.iloc[0]['id']\n",
        "                return 'P'+str(id)\n",
        "        # Use else to do not replace missing Ps with Qs\n",
        "        s = df_q[df_q['en']==word]\n",
        "        # s = df_q[df_q.en.str.contains(word, na=False)]\n",
        "        id = s.iloc[0]['id']\n",
        "        return 'Q'+str(id)\n",
        "    except: return x"
      ]
    },
    {
      "cell_type": "code",
      "execution_count": null,
      "metadata": {},
      "outputs": [
        {
          "data": {
            "text/plain": [
              "'Q1664689'"
            ]
          },
          "execution_count": 9,
          "metadata": {},
          "output_type": "execute_result"
        }
      ],
      "source": [
        "findID('wd', 'instance')"
      ]
    },
    {
      "cell_type": "code",
      "execution_count": null,
      "metadata": {},
      "outputs": [],
      "source": [
        "def decode_props(qry):\n",
        "    rep_dict = {}\n",
        "    qry = qry.replace(\"[\", \"{\").replace(\"]\", \"}\")\n",
        "    for m in re.finditer(\":\\w+\", qry):\n",
        "        pref = qry[m.start(0) - 3 : m.start(0)].strip()\n",
        "        rep_dict[':'+m.group(0)[1:]] = ':'+findID(pref, m.group(0)[1:])\n",
        "    return replace_all(qry, rep_dict)\n"
      ]
    },
    {
      "cell_type": "code",
      "execution_count": null,
      "metadata": {},
      "outputs": [
        {
          "data": {
            "text/plain": [
              "'?ent wdt:P31 wd:Q8502 . ?ent wdt:Q35691748 ?obj'"
            ]
          },
          "execution_count": 62,
          "metadata": {},
          "output_type": "execute_result"
        }
      ],
      "source": [
        "decode_props(' select (COUNT(?sub) AS ?value ) [ ?sub wdt:grand-child wd:jacques_cousteau ]  ')"
      ]
    },
    {
      "cell_type": "code",
      "execution_count": null,
      "metadata": {},
      "outputs": [
        {
          "data": {
            "text/plain": [
              "'SELECT ?answer WHERE { wd:Q64 wdt:P31 ?answer . ?answer wdt:P31 wd:Q30185 }'"
            ]
          },
          "execution_count": 63,
          "metadata": {},
          "output_type": "execute_result"
        }
      ],
      "source": [
        "decode_props('SELECT ?answer WHERE [ wd:berlin wdt:instance_of ?answer . ?answer wdt:instance_of wd:mayor ]')"
      ]
    },
    {
      "cell_type": "code",
      "execution_count": null,
      "metadata": {},
      "outputs": [],
      "source": [
        "def translate(q):\n",
        "    tr = translator(prefix+q, max_length=100)[0]['translation_text']\n",
        "    return (tr, decode_props(tr))"
      ]
    },
    {
      "cell_type": "code",
      "execution_count": null,
      "metadata": {},
      "outputs": [],
      "source": [
        "from beautifultable import BeautifulTable\n",
        "def pretty_translate(t,q): \n",
        "    ans = translate(q)\n",
        "    # print('QUESTION:\\n' + q + '\\nTARGET:\\n'+ t +'\\nRESULT:\\n' + ans[0]+ '\\nRESULT-DECODED:\\n' + ans[1])\n",
        "    table = BeautifulTable(maxwidth=140)\n",
        "    # table.column_headers = [\"\", \"Man Utd\",\"Man City\",\"T Hotspur\"]\n",
        "    table.rows.append(['QUESTION', q])\n",
        "    table.rows.append(['Target', t])\n",
        "    table.rows.append(['RawRESULT', ans[0]])\n",
        "    table.rows.append(['RESULT', ans[1]])\n",
        "    print(table)"
      ]
    },
    {
      "cell_type": "markdown",
      "metadata": {},
      "source": [
        "# TESTING"
      ]
    },
    {
      "cell_type": "code",
      "execution_count": 66,
      "metadata": {},
      "outputs": [
        {
          "data": {
            "text/plain": [
              "'translate english to sparql: '"
            ]
          },
          "execution_count": 66,
          "metadata": {},
          "output_type": "execute_result"
        }
      ],
      "source": [
        "prefix"
      ]
    },
    {
      "cell_type": "code",
      "execution_count": 67,
      "metadata": {},
      "outputs": [
        {
          "data": {
            "text/plain": [
              "[{'translation_text': 'select distinct ?obj where [ wd:marlin_manson wdt:head_of_government ?obj . ?obj wdt:instance_of wd:human ]'}]"
            ]
          },
          "execution_count": 67,
          "metadata": {},
          "output_type": "execute_result"
        }
      ],
      "source": [
        "translator(prefix+'Who is Marlin Manson?', max_length=100)"
      ]
    },
    {
      "cell_type": "code",
      "execution_count": 68,
      "metadata": {},
      "outputs": [
        {
          "data": {
            "text/plain": [
              "('select distinct ?obj where [ wd:marlin_manson wdt:head_of_government ?obj . ?obj wdt:instance_of wd:human ]',\n",
              " 'select distinct ?obj where { wd:marlin_manson wdt:P6 ?obj . ?obj wdt:P31 wd:Q5 }')"
            ]
          },
          "execution_count": 68,
          "metadata": {},
          "output_type": "execute_result"
        }
      ],
      "source": [
        "# <re.Match object; span=(52, 66), match=':marlin_manson'>\n",
        "# ('select distinct ?sbj where { ?sbj wdt:instance_of wd:marlin_manson . ?sbj wdt:instance_of wd:human }',\n",
        "#  'select distinct ?sbj where { ?sbj wdt:P31 wd:marlin_manson . ?sbj wdt:P31 wd:Q5 }')\n",
        "translate('Who is Marlin Manson?')"
      ]
    },
    {
      "cell_type": "code",
      "execution_count": 69,
      "metadata": {},
      "outputs": [
        {
          "data": {
            "text/plain": [
              "(\"select ?value where [ wd:bill_gates p:date_of_birth ?s . ?s ps:date_of_birth ?x filter(contains(?x,'1999')) . ?s pq:applies_to_part ?value]\",\n",
              " \"select ?value where { wd:Q5284 p:P569 ?s . ?s ps:P569 ?x filter(contains(?x,'1999')) . ?s pq:P518 ?value}\")"
            ]
          },
          "execution_count": 69,
          "metadata": {},
          "output_type": "execute_result"
        }
      ],
      "source": [
        "translate('How old is Bill Gates?')"
      ]
    },
    {
      "cell_type": "code",
      "execution_count": 70,
      "metadata": {},
      "outputs": [
        {
          "name": "stdout",
          "output_type": "stream",
          "text": [
            "+-----------+----------------------------------------------------------------------------------------------------------+\n",
            "| QUESTION  |                          Who is the country for head of state of Mahmoud Abbas?                          |\n",
            "+-----------+----------------------------------------------------------------------------------------------------------+\n",
            "|  Target   |              select distinct ?sbj where { ?sbj wdt:P35 wd:Q127998 . ?sbj wdt:P31 wd:Q6256 }              |\n",
            "+-----------+----------------------------------------------------------------------------------------------------------+\n",
            "| RawRESULT | select distinct ?obj where [ wd:mahmoud_abbas wdt:head_of_state ?obj . ?obj wdt:instance_of wd:country ] |\n",
            "+-----------+----------------------------------------------------------------------------------------------------------+\n",
            "|  RESULT   |              select distinct ?obj where { wd:Q127998 wdt:P35 ?obj . ?obj wdt:P31 wd:Q6256 }              |\n",
            "+-----------+----------------------------------------------------------------------------------------------------------+\n"
          ]
        }
      ],
      "source": [
        "pretty_translate('select distinct ?sbj where { ?sbj wdt:P35 wd:Q127998 . ?sbj wdt:P31 wd:Q6256 }','Who is the country for head of state of Mahmoud Abbas?')"
      ]
    },
    {
      "cell_type": "code",
      "execution_count": 71,
      "metadata": {},
      "outputs": [
        {
          "name": "stdout",
          "output_type": "stream",
          "text": [
            "+-----------+----------------------------------------------------------------------------------------------------------+\n",
            "| QUESTION  |                           What country is Mahmoud Abbas the head of state of?                            |\n",
            "+-----------+----------------------------------------------------------------------------------------------------------+\n",
            "|  Target   |              select distinct ?sbj where { ?sbj wdt:P35 wd:Q127998 . ?sbj wdt:P31 wd:Q6256 }              |\n",
            "+-----------+----------------------------------------------------------------------------------------------------------+\n",
            "| RawRESULT | select distinct ?obj where [ wd:mahmoud_abbas wdt:head_of_state ?obj . ?obj wdt:instance_of wd:country ] |\n",
            "+-----------+----------------------------------------------------------------------------------------------------------+\n",
            "|  RESULT   |              select distinct ?obj where { wd:Q127998 wdt:P35 ?obj . ?obj wdt:P31 wd:Q6256 }              |\n",
            "+-----------+----------------------------------------------------------------------------------------------------------+\n"
          ]
        }
      ],
      "source": [
        "pretty_translate('select distinct ?sbj where { ?sbj wdt:P35 wd:Q127998 . ?sbj wdt:P31 wd:Q6256 }',\"What country is Mahmoud Abbas the head of state of?\")"
      ]
    },
    {
      "cell_type": "code",
      "execution_count": 72,
      "metadata": {},
      "outputs": [
        {
          "name": "stdout",
          "output_type": "stream",
          "text": [
            "+-----------+----------------------------------------------------------------------------------------------------------+\n",
            "| QUESTION  |                          Who is the country for head of state of Mahmoud Abbas?                          |\n",
            "+-----------+----------------------------------------------------------------------------------------------------------+\n",
            "|  Target   |              select distinct ?sbj where { ?sbj wdt:P35 wd:Q127998 . ?sbj wdt:P31 wd:Q6256 }              |\n",
            "+-----------+----------------------------------------------------------------------------------------------------------+\n",
            "| RawRESULT | select distinct ?obj where [ wd:mahmoud_abbas wdt:head_of_state ?obj . ?obj wdt:instance_of wd:country ] |\n",
            "+-----------+----------------------------------------------------------------------------------------------------------+\n",
            "|  RESULT   |              select distinct ?obj where { wd:Q127998 wdt:P35 ?obj . ?obj wdt:P31 wd:Q6256 }              |\n",
            "+-----------+----------------------------------------------------------------------------------------------------------+\n"
          ]
        }
      ],
      "source": [
        "pretty_translate('select distinct ?sbj where { ?sbj wdt:P35 wd:Q127998 . ?sbj wdt:P31 wd:Q6256 }','Who is the country for head of state of Mahmoud Abbas?')"
      ]
    },
    {
      "cell_type": "code",
      "execution_count": 73,
      "metadata": {},
      "outputs": [
        {
          "name": "stdout",
          "output_type": "stream",
          "text": [
            "+-----------+-----------------------------------------------------------------------------------------------+\n",
            "| QUESTION  |       which female actress is the voice over on south park and is employed as a singer?       |\n",
            "+-----------+-----------------------------------------------------------------------------------------------+\n",
            "|  Target   |       SELECT ?answer WHERE { wd:Q16538 wdt:P725 ?answer . ?answer wdt:P106 wd:Q177220}        |\n",
            "+-----------+-----------------------------------------------------------------------------------------------+\n",
            "| RawRESULT | select ?answer where [ wd:south_park wdt:voice_over ?answer . ?answer wdt:employer wd:singer] |\n",
            "+-----------+-----------------------------------------------------------------------------------------------+\n",
            "|  RESULT   |     select ?answer where { wd:Q16538 wdt:Q12280274 ?answer . ?answer wdt:P108 wd:Q177220}     |\n",
            "+-----------+-----------------------------------------------------------------------------------------------+\n"
          ]
        }
      ],
      "source": [
        "pretty_translate(\"SELECT ?answer WHERE { wd:Q16538 wdt:P725 ?answer . ?answer wdt:P106 wd:Q177220}\",\"Which female actress is the voice over on South Park and is employed as a singer?\".lower())"
      ]
    },
    {
      "cell_type": "code",
      "execution_count": 74,
      "metadata": {},
      "outputs": [
        {
          "name": "stdout",
          "output_type": "stream",
          "text": [
            "+-----------+----------------------------------------------------------------------------------------------------+\n",
            "| QUESTION  |           Which female actress on South Park is the voice over and is used as a singer?            |\n",
            "+-----------+----------------------------------------------------------------------------------------------------+\n",
            "|  Target   |          SELECT ?answer WHERE { wd:Q16538 wdt:P725 ?answer . ?answer wdt:P106 wd:Q177220}          |\n",
            "+-----------+----------------------------------------------------------------------------------------------------+\n",
            "| RawRESULT | select ?answer where [ wd:south_park wdt:voice_over ?answer . ?answer wdt:influenced_by wd:singer] |\n",
            "+-----------+----------------------------------------------------------------------------------------------------+\n",
            "|  RESULT   |       select ?answer where { wd:Q16538 wdt:Q12280274 ?answer . ?answer wdt:P737 wd:Q177220}        |\n",
            "+-----------+----------------------------------------------------------------------------------------------------+\n"
          ]
        }
      ],
      "source": [
        "pretty_translate(\"SELECT ?answer WHERE { wd:Q16538 wdt:P725 ?answer . ?answer wdt:P106 wd:Q177220}\",\"Which female actress on South Park is the voice over and is used as a singer?\")"
      ]
    },
    {
      "cell_type": "code",
      "execution_count": 75,
      "metadata": {},
      "outputs": [
        {
          "name": "stdout",
          "output_type": "stream",
          "text": [
            "+-----------+----------------------------------------------------------------------------------+\n",
            "| QUESTION  |                    Which is the PIM authority ID of Paul Erd?                    |\n",
            "+-----------+----------------------------------------------------------------------------------+\n",
            "|  Target   |          select distinct ?answer where { wd:Q173746 wdt:P3973 ?answer}           |\n",
            "+-----------+----------------------------------------------------------------------------------+\n",
            "| RawRESULT | select ?answer where [ wd:paul_öl wdt:authority ?X . ?X wdt:named_after ?answer] |\n",
            "+-----------+----------------------------------------------------------------------------------+\n",
            "|  RESULT   |       select ?answer where { wd:paul_öl wdt:P797 ?X . ?X wdt:P138 ?answer}       |\n",
            "+-----------+----------------------------------------------------------------------------------+\n"
          ]
        }
      ],
      "source": [
        "# Paul Erdős (Q173746)\n",
        "pretty_translate(\"select distinct ?answer where { wd:Q173746 wdt:P3973 ?answer}\",\"Which is the PIM authority ID of Paul Erd?\")"
      ]
    },
    {
      "cell_type": "code",
      "execution_count": 76,
      "metadata": {},
      "outputs": [
        {
          "name": "stdout",
          "output_type": "stream",
          "text": [
            "+-----------+------------------------------------------------------------------------------------------------------------------------------+\n",
            "| QUESTION  |                                       What was the population of Somalia in 2009-0-0?                                        |\n",
            "+-----------+------------------------------------------------------------------------------------------------------------------------------+\n",
            "|  Target   |        SELECT ?obj WHERE { wd:Q1045 p:P1082 ?s . ?s ps:P1082 ?obj . ?s pq:P585 ?x filter(contains(YEAR(?x),'2009')) }        |\n",
            "+-----------+------------------------------------------------------------------------------------------------------------------------------+\n",
            "| RawRESULT | select ?obj where [ wd:samala p:population ?s . ?s ps:population ?obj . ?s pq:point_in_time ?x filter(contains(YEAR(?x),'200 |\n",
            "|           |                                                            9')) ]                                                            |\n",
            "+-----------+------------------------------------------------------------------------------------------------------------------------------+\n",
            "|  RESULT   |      select ?obj where { wd:Q2216714 p:P1082 ?s . ?s ps:P1082 ?obj . ?s pq:P585 ?x filter(contains(YEAR(?x),'2009')) }       |\n",
            "+-----------+------------------------------------------------------------------------------------------------------------------------------+\n"
          ]
        }
      ],
      "source": [
        "pretty_translate(\"SELECT ?obj WHERE { wd:Q1045 p:P1082 ?s . ?s ps:P1082 ?obj . ?s pq:P585 ?x filter(contains(YEAR(?x),'2009')) }\", \n",
        "            \"What was the population of Somalia in 2009-0-0?\")"
      ]
    },
    {
      "cell_type": "code",
      "execution_count": 77,
      "metadata": {},
      "outputs": [
        {
          "data": {
            "text/plain": [
              "('select distinct ?sbj where [ ?sbj wdt:place_of_birth wd:new_york_city . ?sbj wdt:instance_of wd:human ]',\n",
              " 'select distinct ?sbj where { ?sbj wdt:P19 wd:Q60 . ?sbj wdt:P31 wd:Q5 }')"
            ]
          },
          "execution_count": 77,
          "metadata": {},
          "output_type": "execute_result"
        }
      ],
      "source": [
        "translate('Humans born in New York City') #random query - answer seems correct"
      ]
    },
    {
      "cell_type": "code",
      "execution_count": 78,
      "metadata": {},
      "outputs": [
        {
          "name": "stdout",
          "output_type": "stream",
          "text": [
            "+-----------+-----------------------------------------------------------------------------------------------------------------------+\n",
            "| QUESTION  |                                  Are Taiko some kind of Japanese musical instrument?                                  |\n",
            "+-----------+-----------------------------------------------------------------------------------------------------------------------+\n",
            "|  Target   | ASK WHERE { <http://dbpedia.org/resource/Taiko> a <http://dbpedia.org/class/yago/WikicatJapaneseMusicalInstruments> } |\n",
            "+-----------+-----------------------------------------------------------------------------------------------------------------------+\n",
            "| RawRESULT |                                   ask where [ wd:taiko wdt:instrument wd:japanese ]                                   |\n",
            "+-----------+-----------------------------------------------------------------------------------------------------------------------+\n",
            "|  RESULT   |                                      ask where { wd:Q221769 wdt:P1303 wd:Q5287 }                                      |\n",
            "+-----------+-----------------------------------------------------------------------------------------------------------------------+\n"
          ]
        }
      ],
      "source": [
        "# From QALD\n",
        "target = \"ASK WHERE { <http://dbpedia.org/resource/Taiko> a <http://dbpedia.org/class/yago/WikicatJapaneseMusicalInstruments> }\"\n",
        "q =  \"Are Taiko some kind of Japanese musical instrument?\"\n",
        "pretty_translate(target, q)"
      ]
    },
    {
      "cell_type": "code",
      "execution_count": 79,
      "metadata": {},
      "outputs": [
        {
          "name": "stdout",
          "output_type": "stream",
          "text": [
            "+-----------+------------------------------------------------------------------------------------------------------------------------------+\n",
            "| QUESTION  |                                                      Who killed Caesar?                                                      |\n",
            "+-----------+------------------------------------------------------------------------------------------------------------------------------+\n",
            "|  Target   | PREFIX dct: <http://purl.org/dc/terms/> PREFIX dbc: <http://dbpedia.org/resource/Category:> SELECT DISTINCT ?uri WHERE { ?ur |\n",
            "|           |                                        i dct:subject dbc:Assassins_of_Julius_Caesar }                                        |\n",
            "+-----------+------------------------------------------------------------------------------------------------------------------------------+\n",
            "| RawRESULT |                  select distinct ?obj where [ wd:césar wdt:killed_by ?obj . ?obj wdt:instance_of wd:human ]                  |\n",
            "+-----------+------------------------------------------------------------------------------------------------------------------------------+\n",
            "|  RESULT   |                         select distinct ?obj where { wd:Q48705 wdt:P157 ?obj . ?obj wdt:P31 wd:Q5 }                          |\n",
            "+-----------+------------------------------------------------------------------------------------------------------------------------------+\n"
          ]
        }
      ],
      "source": [
        "# From QALD\n",
        "target = \"PREFIX dct: <http://purl.org/dc/terms/> PREFIX dbc: <http://dbpedia.org/resource/Category:> SELECT DISTINCT ?uri WHERE { ?uri dct:subject dbc:Assassins_of_Julius_Caesar }\"\n",
        "q =  \"Who killed Caesar?\"\n",
        "pretty_translate(target, q)"
      ]
    },
    {
      "cell_type": "code",
      "execution_count": 80,
      "metadata": {},
      "outputs": [
        {
          "name": "stdout",
          "output_type": "stream",
          "text": [
            "+-----------+------------------------------------------------------------------------------------------------------------------------------+\n",
            "| QUESTION  |                                           What is the highest mountain in Germany?                                           |\n",
            "+-----------+------------------------------------------------------------------------------------------------------------------------------+\n",
            "|  Target   | PREFIX rdfs: <http://www.w3.org/2000/01/rdf-schema#> PREFIX rdf: <http://www.w3.org/1999/02/22-rdf-syntax-ns#> PREFIX onto:  |\n",
            "|           |                                               <http://dbpedia.org/ontology/>                                                 |\n",
            "|           | SELECT ?uri WHERE { ?uri rdf:type onto:Mountain ; onto:elevation ?elevation ; onto:locatedInArea <http://dbpedia.org/resourc |\n",
            "|           |                                        e/Germany> } ORDER BY DESC(?elevation) LIMIT 1                                        |\n",
            "+-----------+------------------------------------------------------------------------------------------------------------------------------+\n",
            "| RawRESULT | select ?ent where [ ?ent wdt:instance_of wd:mountain . ?ent wdt:highest_mountain ?obj . ?ent wdt:country wd:germany] order B |\n",
            "|           |                                                     Y DESC(?obj)limit 5                                                      |\n",
            "+-----------+------------------------------------------------------------------------------------------------------------------------------+\n",
            "|  RESULT   |    select ?ent where { ?ent wdt:P31 wd:Q8502 . ?ent wdt:Q35691748 ?obj . ?ent wdt:P17 wd:Q183} order BY DESC(?obj)limit 5    |\n",
            "+-----------+------------------------------------------------------------------------------------------------------------------------------+\n"
          ]
        }
      ],
      "source": [
        "# From QALD\n",
        "q = 'What is the highest mountain in Germany?'\n",
        "target = \"PREFIX rdfs: <http://www.w3.org/2000/01/rdf-schema#> PREFIX rdf: <http://www.w3.org/1999/02/22-rdf-syntax-ns#> PREFIX onto: <http://dbpedia.org/ontology/>  \\nSELECT ?uri WHERE { ?uri rdf:type onto:Mountain ; onto:elevation ?elevation ; onto:locatedInArea <http://dbpedia.org/resource/Germany> } ORDER BY DESC(?elevation) LIMIT 1\"\n",
        "pretty_translate(target, q)"
      ]
    },
    {
      "cell_type": "code",
      "execution_count": 81,
      "metadata": {},
      "outputs": [
        {
          "name": "stdout",
          "output_type": "stream",
          "text": [
            "+-----------+------------------------------------------------------------------------------------------------------------------------------+\n",
            "| QUESTION  |                               Which American presidents were in office during the Vietnam War?                               |\n",
            "+-----------+------------------------------------------------------------------------------------------------------------------------------+\n",
            "|  Target   | PREFIX dbo: <http://dbpedia.org/ontology/> PREFIX res: <http://dbpedia.org/resource/> PREFIX dct: <http://purl.org/dc/terms/ |\n",
            "|           | > PREFIX dbc: <http://dbpedia.org/resource/Category:> SELECT ?uri WHERE { ?uri dct:subject dbc:Presidents_of_the_United_Stat |\n",
            "|           |                                          es . res:Vietnam_War dbo:commander ?uri }                                           |\n",
            "+-----------+------------------------------------------------------------------------------------------------------------------------------+\n",
            "| RawRESULT |             select distinct ?obj where [ wd:vietnam_war wdt:officeholder ?obj . ?obj wdt:instance_of wd:human ]              |\n",
            "+-----------+------------------------------------------------------------------------------------------------------------------------------+\n",
            "|  RESULT   |                         select distinct ?obj where { wd:Q8740 wdt:P1308 ?obj . ?obj wdt:P31 wd:Q5 }                          |\n",
            "+-----------+------------------------------------------------------------------------------------------------------------------------------+\n"
          ]
        }
      ],
      "source": [
        "# From QALD\n",
        "q = 'Which American presidents were in office during the Vietnam War?'\n",
        "target = \"PREFIX dbo: <http://dbpedia.org/ontology/> PREFIX res: <http://dbpedia.org/resource/> PREFIX dct: <http://purl.org/dc/terms/> PREFIX dbc: <http://dbpedia.org/resource/Category:> SELECT ?uri WHERE { ?uri dct:subject dbc:Presidents_of_the_United_States . res:Vietnam_War dbo:commander ?uri }\"\n",
        "pretty_translate(target, q)"
      ]
    },
    {
      "cell_type": "code",
      "execution_count": 82,
      "metadata": {},
      "outputs": [
        {
          "name": "stdout",
          "output_type": "stream",
          "text": [
            "+-----------+------------------------------------------------------------------------------------------------------------------------------+\n",
            "| QUESTION  |                              How many gold medals did Michael Phelps win at the 2008 Olympics?                               |\n",
            "+-----------+------------------------------------------------------------------------------------------------------------------------------+\n",
            "|  Target   | PREFIX dbo: <http://dbpedia.org/ontology/> PREFIX dbr: <http://dbpedia.org/resource/> PREFIX rdf: <http://www.w3.org/1999/02 |\n",
            "|           | /22-rdf-syntax-ns#> PREFIX rdfs: <http://www.w3.org/2000/01/rdf-schema#> SELECT Count(?sub) as ?c WHERE { ?sub dbo:goldMedal |\n",
            "|           |             ist dbr:Michael_Phelps . filter (contains (str(?sub), \"2008\") && contains (str(?sub), \"Olympics\")) }             |\n",
            "+-----------+------------------------------------------------------------------------------------------------------------------------------+\n",
            "| RawRESULT |                          select (COUNT(?sub) AS ?value ) [ ?sub wdt:gold_medal wd:michael_phelps ]                           |\n",
            "+-----------+------------------------------------------------------------------------------------------------------------------------------+\n",
            "|  RESULT   |                                select (COUNT(?sub) AS ?value ) { ?sub wdt:Q406039 wd:Q39562 }                                |\n",
            "+-----------+------------------------------------------------------------------------------------------------------------------------------+\n"
          ]
        }
      ],
      "source": [
        "# From QALD\n",
        "q = 'How many gold medals did Michael Phelps win at the 2008 Olympics?'\n",
        "target = \"PREFIX dbo: <http://dbpedia.org/ontology/> PREFIX dbr: <http://dbpedia.org/resource/> PREFIX rdf: <http://www.w3.org/1999/02/22-rdf-syntax-ns#> PREFIX rdfs: <http://www.w3.org/2000/01/rdf-schema#> SELECT Count(?sub) as ?c WHERE { ?sub dbo:goldMedalist dbr:Michael_Phelps . filter (contains (str(?sub), \\\"2008\\\") && contains (str(?sub), \\\"Olympics\\\")) }\"\n",
        "pretty_translate(target, q)"
      ]
    },
    {
      "cell_type": "code",
      "execution_count": 83,
      "metadata": {},
      "outputs": [
        {
          "name": "stdout",
          "output_type": "stream",
          "text": [
            "+-----------+------------------------------------------------------------------------------------------------------------------------------+\n",
            "| QUESTION  |                                           What is the profession of Frank Herbert?                                           |\n",
            "+-----------+------------------------------------------------------------------------------------------------------------------------------+\n",
            "|  Target   | PREFIX dbpedia2: <http://dbpedia.org/property/> PREFIX res: <http://dbpedia.org/resource/> SELECT DISTINCT ?string WHERE { r |\n",
            "|           |                                        es:Frank_Herbert dbpedia2:occupation ?string }                                        |\n",
            "+-----------+------------------------------------------------------------------------------------------------------------------------------+\n",
            "| RawRESULT |                     select ?answer where [ wd:frank_herrry wdt:occupation ?X . ?X wdt:employer ?answer]                      |\n",
            "+-----------+------------------------------------------------------------------------------------------------------------------------------+\n",
            "|  RESULT   |                          select ?answer where { wd:frank_herrry wdt:P106 ?X . ?X wdt:P108 ?answer}                           |\n",
            "+-----------+------------------------------------------------------------------------------------------------------------------------------+\n"
          ]
        }
      ],
      "source": [
        "# From QALD\n",
        "q = 'What is the profession of Frank Herbert?'\n",
        "target = \"PREFIX dbpedia2: <http://dbpedia.org/property/> PREFIX res: <http://dbpedia.org/resource/> SELECT DISTINCT ?string WHERE { res:Frank_Herbert dbpedia2:occupation ?string }\"\n",
        "pretty_translate(target, q)"
      ]
    },
    {
      "cell_type": "code",
      "execution_count": 84,
      "metadata": {},
      "outputs": [
        {
          "name": "stdout",
          "output_type": "stream",
          "text": [
            "+-----------+------------------------------------------------------------------------------------------------------------------------------+\n",
            "| QUESTION  |                                    How many seats does the home stadium of FC Porto have?                                    |\n",
            "+-----------+------------------------------------------------------------------------------------------------------------------------------+\n",
            "|  Target   | PREFIX dbo: <http://dbpedia.org/ontology/> PREFIX dbp: <http://dbpedia.org/property/> PREFIX dbr: <http://dbpedia.org/resour |\n",
            "|           | ce/> PREFIX rdf: <http://www.w3.org/1999/02/22-rdf-syntax-ns#> PREFIX rdfs: <http://www.w3.org/2000/01/rdf-schema#> PREFIX d |\n",
            "|           | b: <http://dbpedia.org/> SELECT ?capacity WHERE { { dbr:FC_Porto dbo:ground ?ground . ?ground dbo:capacity ?capacity } UNION |\n",
            "|           |                            { dbr:FC_Porto dbo:ground ?ground . ?ground dbp:capacity ?capacity } }                            |\n",
            "+-----------+------------------------------------------------------------------------------------------------------------------------------+\n",
            "| RawRESULT |                            select (COUNT(?sub) AS ?value ) [ ?sub wdt:home_stadium wd:fc_porto ]                             |\n",
            "+-----------+------------------------------------------------------------------------------------------------------------------------------+\n",
            "|  RESULT   |                             select (COUNT(?sub) AS ?value ) { ?sub wdt:home_stadium wd:Q128446 }                             |\n",
            "+-----------+------------------------------------------------------------------------------------------------------------------------------+\n"
          ]
        }
      ],
      "source": [
        "# From QALD\n",
        "q = 'How many seats does the home stadium of FC Porto have?'\n",
        "target = \"PREFIX dbo: <http://dbpedia.org/ontology/> PREFIX dbp: <http://dbpedia.org/property/> PREFIX dbr: <http://dbpedia.org/resource/> PREFIX rdf: <http://www.w3.org/1999/02/22-rdf-syntax-ns#> PREFIX rdfs: <http://www.w3.org/2000/01/rdf-schema#> PREFIX db: <http://dbpedia.org/> SELECT ?capacity WHERE { { dbr:FC_Porto dbo:ground ?ground . ?ground dbo:capacity ?capacity } UNION { dbr:FC_Porto dbo:ground ?ground . ?ground dbp:capacity ?capacity } }\"\n",
        "pretty_translate(target, q)"
      ]
    },
    {
      "cell_type": "code",
      "execution_count": 85,
      "metadata": {},
      "outputs": [
        {
          "name": "stdout",
          "output_type": "stream",
          "text": [
            "+-----------+------------------------------------------------------------------------------------------------------------------------------+\n",
            "| QUESTION  |                                     Which frequent flyer program has the most airlines?                                      |\n",
            "+-----------+------------------------------------------------------------------------------------------------------------------------------+\n",
            "|  Target   | SELECT ?uri WHERE { ?airline <http://www.w3.org/1999/02/22-rdf-syntax-ns#type> <http://dbpedia.org/ontology/Airline> . ?airl |\n",
            "|           | ine <http://dbpedia.org/property/frequentFlyer> ?uri. } GROUP BY ?uri ORDER BY DESC(COUNT(DISTINCT ?airline)) OFFSET 0 LIMIT |\n",
            "|           |                                                               1                                                              |\n",
            "+-----------+------------------------------------------------------------------------------------------------------------------------------+\n",
            "| RawRESULT | select ?ent where [ ?ent wdt:instance_of wd:frequent_flyer_programme . ?ent wdt:airlines_location ?obj ] order BY DESC(?obj) |\n",
            "|           |                                                           limit 5                                                            |\n",
            "+-----------+------------------------------------------------------------------------------------------------------------------------------+\n",
            "|  RESULT   |         select ?ent where { ?ent wdt:P31 wd:Q1062332 . ?ent wdt:airlines_location ?obj } order BY DESC(?obj)limit 5          |\n",
            "+-----------+------------------------------------------------------------------------------------------------------------------------------+\n"
          ]
        }
      ],
      "source": [
        "# From QALD\n",
        "q = 'Which frequent flyer program has the most airlines?'\n",
        "target = \"SELECT ?uri WHERE { ?airline <http://www.w3.org/1999/02/22-rdf-syntax-ns#type> <http://dbpedia.org/ontology/Airline> . ?airline <http://dbpedia.org/property/frequentFlyer> ?uri. } GROUP BY ?uri ORDER BY DESC(COUNT(DISTINCT ?airline)) OFFSET 0 LIMIT 1\"\n",
        "pretty_translate(target, q)"
      ]
    },
    {
      "cell_type": "code",
      "execution_count": 86,
      "metadata": {},
      "outputs": [
        {
          "name": "stdout",
          "output_type": "stream",
          "text": [
            "+-----------+------------------------------------------------------------------------------------------------------------------------------+\n",
            "| QUESTION  |                                   Which European countries have a constitutional monarchy?                                   |\n",
            "+-----------+------------------------------------------------------------------------------------------------------------------------------+\n",
            "|  Target   | PREFIX dbo: <http://dbpedia.org/ontology/> PREFIX dct: <http://purl.org/dc/terms/> PREFIX dbc: <http://dbpedia.org/resource/ |\n",
            "|           | Category:> PREFIX dbr: <http://dbpedia.org/resource/> SELECT ?uri WHERE { ?uri dct:subject dbc:Countries_in_Europe ; dbo:gov |\n",
            "|           |                                          ernmentType dbr:Constitutional_monarchy }                                           |\n",
            "+-----------+------------------------------------------------------------------------------------------------------------------------------+\n",
            "| RawRESULT | select distinct ?obj where [ wd:european_country wdt:constitutional_monarchy ?obj . ?obj wdt:instance_of wd:european_country |\n",
            "|           |                                                               ]                                                              |\n",
            "+-----------+------------------------------------------------------------------------------------------------------------------------------+\n",
            "|  RESULT   |            select distinct ?obj where { wd:european_country wdt:Q41614 ?obj . ?obj wdt:P31 wd:european_country }             |\n",
            "+-----------+------------------------------------------------------------------------------------------------------------------------------+\n"
          ]
        }
      ],
      "source": [
        "# From QALD\n",
        "q = 'Which European countries have a constitutional monarchy?'\n",
        "target = \"PREFIX dbo: <http://dbpedia.org/ontology/> PREFIX dct: <http://purl.org/dc/terms/> PREFIX dbc: <http://dbpedia.org/resource/Category:> PREFIX dbr: <http://dbpedia.org/resource/> SELECT ?uri WHERE { ?uri dct:subject dbc:Countries_in_Europe ; dbo:governmentType dbr:Constitutional_monarchy }\"\n",
        "pretty_translate(target, q)"
      ]
    },
    {
      "cell_type": "code",
      "execution_count": 87,
      "metadata": {},
      "outputs": [
        {
          "name": "stdout",
          "output_type": "stream",
          "text": [
            "+-----------+------------------------------------------------------------------------------------------------------------------------------+\n",
            "| QUESTION  |                                    Which countries have places with more than two caves?                                     |\n",
            "+-----------+------------------------------------------------------------------------------------------------------------------------------+\n",
            "|  Target   | PREFIX dbo: <http://dbpedia.org/ontology/> PREFIX rdf: <http://www.w3.org/1999/02/22-rdf-syntax-ns#> SELECT DISTINCT ?uri WH |\n",
            "|           |  ERE { ?cave rdf:type dbo:Cave ; dbo:location ?uri . ?uri rdf:type dbo:Country } GROUP BY ?uri HAVING ( COUNT(?cave) > 2 )   |\n",
            "+-----------+------------------------------------------------------------------------------------------------------------------------------+\n",
            "| RawRESULT | select ?answer where [ wd:hodes wdt:located_in_the_administrative_territorial_entity ?answer . ?answer wdt:located_in_the_ad |\n",
            "|           |                                         ministrative_territorial_entity wd:Q484848]                                          |\n",
            "+-----------+------------------------------------------------------------------------------------------------------------------------------+\n",
            "|  RESULT   |                      select ?answer where { wd:Q1622686 wdt:P131 ?answer . ?answer wdt:P131 wd:Q484848}                      |\n",
            "+-----------+------------------------------------------------------------------------------------------------------------------------------+\n"
          ]
        }
      ],
      "source": [
        "# From QALD\n",
        "q = 'Which countries have places with more than two caves?'\n",
        "target = \"PREFIX dbo: <http://dbpedia.org/ontology/> PREFIX rdf: <http://www.w3.org/1999/02/22-rdf-syntax-ns#> SELECT DISTINCT ?uri WHERE { ?cave rdf:type dbo:Cave ; dbo:location ?uri . ?uri rdf:type dbo:Country } GROUP BY ?uri HAVING ( COUNT(?cave) > 2 )\"\n",
        "pretty_translate(target, q)"
      ]
    },
    {
      "cell_type": "code",
      "execution_count": 88,
      "metadata": {},
      "outputs": [
        {
          "name": "stdout",
          "output_type": "stream",
          "text": [
            "+-----------+------------------------------------------------------------------------------------------------------------------------------+\n",
            "| QUESTION  |                                        Which airports are located in California, USA?                                        |\n",
            "+-----------+------------------------------------------------------------------------------------------------------------------------------+\n",
            "|  Target   | SELECT DISTINCT ?uri WHERE { ?uri a <http://dbpedia.org/ontology/Airport> { ?uri <http://dbpedia.org/ontology/location> <htt |\n",
            "|           | p://dbpedia.org/resource/California> } UNION { ?uri <http://dbpedia.org/ontology/city> <http://dbpedia.org/resource/Californ |\n",
            "|           | ia> } UNION { ?uri <http://dbpedia.org/ontology/city> ?city . ?city <http://dbpedia.org/ontology/isPartOf> <http://dbpedia.o |\n",
            "|           |  rg/resource/California> } UNION { ?uri <http://dbpedia.org/ontology/operator> <http://dbpedia.org/resource/California> } }  |\n",
            "+-----------+------------------------------------------------------------------------------------------------------------------------------+\n",
            "| RawRESULT | select ?answer where [ wd:california wdt:located_in_the_administrative_territorial_entity ?X . ?X wdt:located_in_the_adminis |\n",
            "|           |                                             trative_territorial_entity ?answer]                                              |\n",
            "+-----------+------------------------------------------------------------------------------------------------------------------------------+\n",
            "|  RESULT   |                               select ?answer where { wd:Q99 wdt:P131 ?X . ?X wdt:P131 ?answer}                               |\n",
            "+-----------+------------------------------------------------------------------------------------------------------------------------------+\n"
          ]
        }
      ],
      "source": [
        "# From QALD\n",
        "q = 'Which airports are located in California, USA?'\n",
        "target = \"SELECT DISTINCT ?uri WHERE { ?uri a <http://dbpedia.org/ontology/Airport> { ?uri <http://dbpedia.org/ontology/location> <http://dbpedia.org/resource/California> } UNION { ?uri <http://dbpedia.org/ontology/city> <http://dbpedia.org/resource/California> } UNION { ?uri <http://dbpedia.org/ontology/city> ?city . ?city <http://dbpedia.org/ontology/isPartOf> <http://dbpedia.org/resource/California> } UNION { ?uri <http://dbpedia.org/ontology/operator> <http://dbpedia.org/resource/California> } }\"\n",
        "pretty_translate(target, q)"
      ]
    },
    {
      "cell_type": "code",
      "execution_count": 89,
      "metadata": {},
      "outputs": [
        {
          "name": "stdout",
          "output_type": "stream",
          "text": [
            "+-----------+-----------------------------------------------------------------------------------------+\n",
            "| QUESTION  |                        What are the nicknames of San Francisco?                         |\n",
            "+-----------+-----------------------------------------------------------------------------------------+\n",
            "|  Target   |          SELECT DISTINCT ?string WHERE { res:San_Francisco foaf:nick ?string }          |\n",
            "+-----------+-----------------------------------------------------------------------------------------+\n",
            "| RawRESULT | select ?answer where [ wd:san_francisco wdt:named_after ?X . ?X wdt:short_name ?answer] |\n",
            "+-----------+-----------------------------------------------------------------------------------------+\n",
            "|  RESULT   |            select ?answer where { wd:Q62 wdt:P138 ?X . ?X wdt:P1813 ?answer}            |\n",
            "+-----------+-----------------------------------------------------------------------------------------+\n"
          ]
        }
      ],
      "source": [
        "# From QALD\n",
        "q = \"What are the nicknames of San Francisco?\"\n",
        "target = \"SELECT DISTINCT ?string WHERE { res:San_Francisco foaf:nick ?string }\"\n",
        "pretty_translate(target, q)"
      ]
    },
    {
      "cell_type": "code",
      "execution_count": 90,
      "metadata": {},
      "outputs": [
        {
          "name": "stdout",
          "output_type": "stream",
          "text": [
            "+-----------+----------------------------------------------------------------------------------------------+\n",
            "| QUESTION  |                             What is Angela Merkel’s birth name?                              |\n",
            "+-----------+----------------------------------------------------------------------------------------------+\n",
            "|  Target   |          SELECT DISTINCT ?string WHERE { res:Angela_Merkel dbp:birthName ?string }           |\n",
            "+-----------+----------------------------------------------------------------------------------------------+\n",
            "| RawRESULT | select ?answer where [ wd:angela_francais wdt:place_of_birth ?X . ?X wdt:given_name ?answer] |\n",
            "+-----------+----------------------------------------------------------------------------------------------+\n",
            "|  RESULT   |         select ?answer where { wd:angela_francais wdt:P19 ?X . ?X wdt:P735 ?answer}          |\n",
            "+-----------+----------------------------------------------------------------------------------------------+\n"
          ]
        }
      ],
      "source": [
        "# From QALD\n",
        "q = \"What is Angela Merkel’s birth name?\"\n",
        "target = \"SELECT DISTINCT ?string WHERE { res:Angela_Merkel dbp:birthName ?string }\"\n",
        "pretty_translate(target, q)"
      ]
    },
    {
      "cell_type": "code",
      "execution_count": 91,
      "metadata": {},
      "outputs": [
        {
          "name": "stdout",
          "output_type": "stream",
          "text": [
            "+-----------+------------------------------------------------------------------------------------------------------+\n",
            "| QUESTION  |                                     Who is the mayor of Berlin?                                      |\n",
            "+-----------+------------------------------------------------------------------------------------------------------+\n",
            "|  Target   |                      SELECT DISTINCT ?uri WHERE { res:Berlin dbp:leader ?uri }                       |\n",
            "+-----------+------------------------------------------------------------------------------------------------------+\n",
            "| RawRESULT | select distinct ?obj where [ wd:berlin wdt:head_of_government ?obj . ?obj wdt:instance_of wd:human ] |\n",
            "+-----------+------------------------------------------------------------------------------------------------------+\n",
            "|  RESULT   |                select distinct ?obj where { wd:Q64 wdt:P6 ?obj . ?obj wdt:P31 wd:Q5 }                |\n",
            "+-----------+------------------------------------------------------------------------------------------------------+\n"
          ]
        }
      ],
      "source": [
        "# From QALD\n",
        "q = \"Who is the mayor of Berlin?\"\n",
        "target = \"SELECT DISTINCT ?uri WHERE { res:Berlin dbp:leader ?uri }\"\n",
        "pretty_translate(target, q)"
      ]
    },
    {
      "cell_type": "code",
      "execution_count": 92,
      "metadata": {},
      "outputs": [
        {
          "name": "stdout",
          "output_type": "stream",
          "text": [
            "+-----------+------------------------------------------------------------------------------------------------------------------------------+\n",
            "| QUESTION  |                                 Which software has been published by Mean Hamster Software?                                  |\n",
            "+-----------+------------------------------------------------------------------------------------------------------------------------------+\n",
            "|  Target   | SELECT DISTINCT ?uri WHERE { ?uri rdf:type onto:Software { ?uri prop:publisher \"Mean Hamster Software\"@en } UNION { ?uri ont |\n",
            "|           |                                          o:publisher res:Mean_Hamster_Software } }                                           |\n",
            "+-----------+------------------------------------------------------------------------------------------------------------------------------+\n",
            "| RawRESULT |       select distinct ?obj where [ wd:mean_hamster_software wdt:published_by ?obj . ?obj wdt:instance_of wd:software ]       |\n",
            "+-----------+------------------------------------------------------------------------------------------------------------------------------+\n",
            "|  RESULT   |                      select distinct ?obj where { wd:Q15070395 wdt:P123 ?obj . ?obj wdt:P31 wd:Q7397 }                       |\n",
            "+-----------+------------------------------------------------------------------------------------------------------------------------------+\n"
          ]
        }
      ],
      "source": [
        "# From QALD\n",
        "q = \"Which software has been published by Mean Hamster Software?\"\n",
        "target = \"SELECT DISTINCT ?uri WHERE { ?uri rdf:type onto:Software { ?uri prop:publisher \\\"Mean Hamster Software\\\"@en } UNION { ?uri onto:publisher res:Mean_Hamster_Software } }\"\n",
        "pretty_translate(target, q)"
      ]
    },
    {
      "cell_type": "code",
      "execution_count": 93,
      "metadata": {},
      "outputs": [
        {
          "name": "stdout",
          "output_type": "stream",
          "text": [
            "+-----------+------------------------------------------------------------------------------------------------------------------------------+\n",
            "| QUESTION  |                                            Which country was Bill Gates born in?                                             |\n",
            "+-----------+------------------------------------------------------------------------------------------------------------------------------+\n",
            "|  Target   | SELECT DISTINCT ?country WHERE { { dbr:Bill_Gates dbo:birthPlace ?birthPlace . ?birthPlace dbo:country ?country } UNION { db |\n",
            "|           |         r:Bill_Gates dbo:birthPlace ?birthPlace . ?birthPlace dbo:isPartOf ?place . ?place dbo:country ?country } }          |\n",
            "+-----------+------------------------------------------------------------------------------------------------------------------------------+\n",
            "| RawRESULT |            select distinct ?obj where [ wd:bill_gates wdt:place_of_birth ?obj . ?obj wdt:instance_of wd:country ]            |\n",
            "+-----------+------------------------------------------------------------------------------------------------------------------------------+\n",
            "|  RESULT   |                         select distinct ?obj where { wd:Q5284 wdt:P19 ?obj . ?obj wdt:P31 wd:Q6256 }                         |\n",
            "+-----------+------------------------------------------------------------------------------------------------------------------------------+\n"
          ]
        }
      ],
      "source": [
        "# From QALD\n",
        "q = \"Which country was Bill Gates born in?\"\n",
        "target = \"SELECT DISTINCT ?country WHERE { { dbr:Bill_Gates dbo:birthPlace ?birthPlace . ?birthPlace dbo:country ?country } UNION { dbr:Bill_Gates dbo:birthPlace ?birthPlace . ?birthPlace dbo:isPartOf ?place . ?place dbo:country ?country } }\"\n",
        "pretty_translate(target, q)"
      ]
    },
    {
      "cell_type": "code",
      "execution_count": 1,
      "metadata": {},
      "outputs": [
        {
          "ename": "NameError",
          "evalue": "name 'pretty_translate' is not defined",
          "output_type": "error",
          "traceback": [
            "\u001b[0;31m---------------------------------------------------------------------------\u001b[0m",
            "\u001b[0;31mNameError\u001b[0m                                 Traceback (most recent call last)",
            "\u001b[0;32m<ipython-input-1-96aebe19ae1f>\u001b[0m in \u001b[0;36m<module>\u001b[0;34m\u001b[0m\n\u001b[1;32m      2\u001b[0m \u001b[0mq\u001b[0m \u001b[0;34m=\u001b[0m \u001b[0;34m\"How many grand-children did Jacques Cousteau have?\"\u001b[0m\u001b[0;34m\u001b[0m\u001b[0;34m\u001b[0m\u001b[0m\n\u001b[1;32m      3\u001b[0m \u001b[0mtarget\u001b[0m \u001b[0;34m=\u001b[0m \u001b[0;34m\"SELECT COUNT(DISTINCT ?y AS ?y) WHERE { <http://dbpedia.org/resource/Jacques_Cousteau> <http://dbpedia.org/ontology/child> ?x . ?x <http://dbpedia.org/ontology/child> ?y . }\"\u001b[0m\u001b[0;34m\u001b[0m\u001b[0;34m\u001b[0m\u001b[0m\n\u001b[0;32m----> 4\u001b[0;31m \u001b[0mpretty_translate\u001b[0m\u001b[0;34m(\u001b[0m\u001b[0mtarget\u001b[0m\u001b[0;34m,\u001b[0m \u001b[0mq\u001b[0m\u001b[0;34m)\u001b[0m\u001b[0;34m\u001b[0m\u001b[0;34m\u001b[0m\u001b[0m\n\u001b[0m",
            "\u001b[0;31mNameError\u001b[0m: name 'pretty_translate' is not defined"
          ]
        }
      ],
      "source": [
        "# From QALD\n",
        "q = \"How many grand-children did Jacques Cousteau have?\"\n",
        "target = \"SELECT COUNT(DISTINCT ?y AS ?y) WHERE { <http://dbpedia.org/resource/Jacques_Cousteau> <http://dbpedia.org/ontology/child> ?x . ?x <http://dbpedia.org/ontology/child> ?y . }\"\n",
        "pretty_translate(target, q)"
      ]
    },
    {
      "cell_type": "code",
      "execution_count": 95,
      "metadata": {},
      "outputs": [
        {
          "name": "stdout",
          "output_type": "stream",
          "text": [
            "+-----------+------------------------------------------------------------------------------------------------------------------------------+\n",
            "| QUESTION  |                                     Give me all professional skateboarders from Sweden.                                      |\n",
            "+-----------+------------------------------------------------------------------------------------------------------------------------------+\n",
            "|  Target   | SELECT DISTINCT ?uri WHERE { ?uri dbo:occupation dbr:Skateboarder { ?uri dbo:birthPlace dbr:Sweden } UNION { ?uri dbo:birthP |\n",
            "|           |                                       lace ?place . ?place dbo:country dbr:Sweden } }                                        |\n",
            "+-----------+------------------------------------------------------------------------------------------------------------------------------+\n",
            "| RawRESULT |              select distinct ?sbj where [ ?sbj wdt:profession wd:snowboarder . ?sbj wdt:instance_of wd:human ]               |\n",
            "+-----------+------------------------------------------------------------------------------------------------------------------------------+\n",
            "|  RESULT   |                        select distinct ?sbj where { ?sbj wdt:P106 wd:Q3487198 . ?sbj wdt:P31 wd:Q5 }                         |\n",
            "+-----------+------------------------------------------------------------------------------------------------------------------------------+\n"
          ]
        }
      ],
      "source": [
        "# From QALD\n",
        "q = \"Give me all professional skateboarders from Sweden.\"\n",
        "target = \"SELECT DISTINCT ?uri WHERE { ?uri dbo:occupation dbr:Skateboarder { ?uri dbo:birthPlace dbr:Sweden } UNION { ?uri dbo:birthPlace ?place . ?place dbo:country dbr:Sweden } }\"\n",
        "pretty_translate(target, q)"
      ]
    },
    {
      "cell_type": "code",
      "execution_count": 96,
      "metadata": {},
      "outputs": [
        {
          "name": "stdout",
          "output_type": "stream",
          "text": [
            "+-----------+------------------------------------------------------------------------------------------------------------------------------+\n",
            "| QUESTION  |                                Which monarchs of the United Kingdom were married to a German?                                |\n",
            "+-----------+------------------------------------------------------------------------------------------------------------------------------+\n",
            "|  Target   | SELECT DISTINCT ?uri WHERE { ?uri rdf:type yago:WikicatMonarchsOfTheUnitedKingdom ; dbo:spouse ?spouse . ?spouse dbo:birthPl |\n",
            "|           |                                                      ace res:Germany }                                                       |\n",
            "+-----------+------------------------------------------------------------------------------------------------------------------------------+\n",
            "| RawRESULT |              select ?answer where [ wd:united_kingdom wdt:spouse ?answer . ?answer wdt:sex_or_gender wd:german]              |\n",
            "+-----------+------------------------------------------------------------------------------------------------------------------------------+\n",
            "|  RESULT   |                          select ?answer where { wd:Q145 wdt:P26 ?answer . ?answer wdt:P21 wd:Q188}                           |\n",
            "+-----------+------------------------------------------------------------------------------------------------------------------------------+\n"
          ]
        }
      ],
      "source": [
        "# From QALD\n",
        "q = \"Which monarchs of the United Kingdom were married to a German?\"\n",
        "target = \"SELECT DISTINCT ?uri WHERE { ?uri rdf:type yago:WikicatMonarchsOfTheUnitedKingdom ; dbo:spouse ?spouse . ?spouse dbo:birthPlace res:Germany }\"\n",
        "pretty_translate(target, q)"
      ]
    },
    {
      "cell_type": "code",
      "execution_count": 97,
      "metadata": {},
      "outputs": [
        {
          "name": "stdout",
          "output_type": "stream",
          "text": [
            "+-----------+------------------------------------------------------------------------------------------------------------------------------+\n",
            "| QUESTION  |                                                 Give me all Argentine films.                                                 |\n",
            "+-----------+------------------------------------------------------------------------------------------------------------------------------+\n",
            "|  Target   | SELECT DISTINCT ?uri WHERE { { ?uri rdf:type yago:ArgentineFilms } UNION { ?uri rdf:type dbo:Film { ?uri dbo:country res:Arg |\n",
            "|           |                                    entina } UNION { ?uri dbp:country \"Argentina\"@en } } }                                    |\n",
            "+-----------+------------------------------------------------------------------------------------------------------------------------------+\n",
            "| RawRESULT |              select distinct ?sbj where [ ?sbj wdt:films_ordinal wd:argentina . ?sbj wdt:instance_of wd:human ]              |\n",
            "+-----------+------------------------------------------------------------------------------------------------------------------------------+\n",
            "|  RESULT   |                      select distinct ?sbj where { ?sbj wdt:films_ordinal wd:Q414 . ?sbj wdt:P31 wd:Q5 }                      |\n",
            "+-----------+------------------------------------------------------------------------------------------------------------------------------+\n"
          ]
        }
      ],
      "source": [
        "# From QALD\n",
        "q = \"Give me all Argentine films.\"\n",
        "target = \"SELECT DISTINCT ?uri WHERE { { ?uri rdf:type yago:ArgentineFilms } UNION { ?uri rdf:type dbo:Film { ?uri dbo:country res:Argentina } UNION { ?uri dbp:country \\\"Argentina\\\"@en } } }\"\n",
        "pretty_translate(target, q)"
      ]
    },
    {
      "cell_type": "code",
      "execution_count": 98,
      "metadata": {},
      "outputs": [
        {
          "name": "stdout",
          "output_type": "stream",
          "text": [
            "+-----------+------------------------------------------------------------------------------------------------------------------------+\n",
            "| QUESTION  |                                              How did Michael Jackson die?                                              |\n",
            "+-----------+------------------------------------------------------------------------------------------------------------------------+\n",
            "|  Target   | SELECT DISTINCT ?s WHERE { <http://dbpedia.org/resource/Michael_Jackson> <http://dbpedia.org/property/deathCause> ?s } |\n",
            "+-----------+------------------------------------------------------------------------------------------------------------------------+\n",
            "| RawRESULT |                select ?answer where [ wd:michael_jong wdt:place_of_death ?X . ?X wdt:replaces ?answer]                 |\n",
            "+-----------+------------------------------------------------------------------------------------------------------------------------+\n",
            "|  RESULT   |                       select ?answer where { wd:michael_jong wdt:P20 ?X . ?X wdt:P1365 ?answer}                        |\n",
            "+-----------+------------------------------------------------------------------------------------------------------------------------+\n"
          ]
        }
      ],
      "source": [
        "# From QALD\n",
        "q = \"How did Michael Jackson die?\"\n",
        "target = \"SELECT DISTINCT ?s WHERE { <http://dbpedia.org/resource/Michael_Jackson> <http://dbpedia.org/property/deathCause> ?s }\"\n",
        "pretty_translate(target, q)"
      ]
    },
    {
      "cell_type": "code",
      "execution_count": 99,
      "metadata": {},
      "outputs": [
        {
          "name": "stdout",
          "output_type": "stream",
          "text": [
            "+-----------+-----------------------------------------------------------------------------------------------+\n",
            "| QUESTION  |                                Where did Michael Jackson died?                                |\n",
            "+-----------+-----------------------------------------------------------------------------------------------+\n",
            "|  Target   |                                               .                                               |\n",
            "+-----------+-----------------------------------------------------------------------------------------------+\n",
            "| RawRESULT | select ?answer where [ wd:michael_jong wdt:place_of_death ?X . ?X wdt:place_of_death ?answer] |\n",
            "+-----------+-----------------------------------------------------------------------------------------------+\n",
            "|  RESULT   |            select ?answer where { wd:michael_jong wdt:P20 ?X . ?X wdt:P20 ?answer}            |\n",
            "+-----------+-----------------------------------------------------------------------------------------------+\n"
          ]
        }
      ],
      "source": [
        "# From QALD\n",
        "q = \"Where did Michael Jackson died?\"\n",
        "target = \".\"\n",
        "pretty_translate(target, q)"
      ]
    },
    {
      "cell_type": "code",
      "execution_count": 100,
      "metadata": {},
      "outputs": [
        {
          "name": "stdout",
          "output_type": "stream",
          "text": [
            "+-----------+------------------------------------------------------------------------------------------------+\n",
            "| QUESTION  |                          Which classes does the Millepede belong to?                           |\n",
            "+-----------+------------------------------------------------------------------------------------------------+\n",
            "|  Target   |               SELECT DISTINCT ?String WHERE { res:Millipede dbp:taxon ?String }                |\n",
            "+-----------+------------------------------------------------------------------------------------------------+\n",
            "| RawRESULT | select distinct ?obj where [ wd:millepede wdt:member_of ?obj . ?obj wdt:instance_of wd:class ] |\n",
            "+-----------+------------------------------------------------------------------------------------------------+\n",
            "|  RESULT   |       select distinct ?obj where { wd:millepede wdt:P463 ?obj . ?obj wdt:P31 wd:Q18204 }       |\n",
            "+-----------+------------------------------------------------------------------------------------------------+\n"
          ]
        }
      ],
      "source": [
        "# From QALD\n",
        "q = \"Which classes does the Millepede belong to?\"\n",
        "target = \"SELECT DISTINCT ?String WHERE { res:Millipede dbp:taxon ?String }\"\n",
        "pretty_translate(target, q)"
      ]
    }
  ],
  "metadata": {
    "colab": {
      "name": "seq2seq-t5-use.ipynb",
      "provenance": []
    },
    "interpreter": {
      "hash": "e7370f93d1d0cde622a1f8e1c04877d8463912d04d973331ad4851f04de6915a"
    },
    "kernelspec": {
      "display_name": "Python 3.8.5 64-bit",
      "name": "python3"
    },
    "language_info": {
      "codemirror_mode": {
        "name": "ipython",
        "version": 3
      },
      "file_extension": ".py",
      "mimetype": "text/x-python",
      "name": "python",
      "nbconvert_exporter": "python",
      "pygments_lexer": "ipython3",
      "version": "3.8.5"
    },
    "orig_nbformat": 4
  },
  "nbformat": 4,
  "nbformat_minor": 2
}
