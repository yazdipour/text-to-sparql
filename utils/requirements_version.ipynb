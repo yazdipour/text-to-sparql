{
  "nbformat": 4,
  "nbformat_minor": 0,
  "metadata": {
    "colab": {
      "name": "Welcome To Colaboratory",
      "provenance": [],
      "collapsed_sections": [],
      "toc_visible": true
    },
    "kernelspec": {
      "display_name": "Python 3",
      "name": "python3"
    }
  },
  "cells": [
    {
      "cell_type": "code",
      "metadata": {
        "id": "R4ByB0cFfPaF",
        "outputId": "6a6fa0b7-803b-4043-a283-acb04c7a93f5",
        "colab": {
          "base_uri": "https://localhost:8080/"
        }
      },
      "source": [
        "!pip install transformers==4.10.0 tokenizers==0.10.3 sacrebleu==1.5.1 datasets==1.14.0 bert_score==0.3.10 -qqq"
      ],
      "execution_count": 1,
      "outputs": [
        {
          "output_type": "stream",
          "name": "stdout",
          "text": [
            "\u001b[K     |████████████████████████████████| 290 kB 7.8 MB/s \n",
            "\u001b[K     |████████████████████████████████| 2.8 MB 43.5 MB/s \n",
            "\u001b[K     |████████████████████████████████| 59 kB 9.0 MB/s \n",
            "\u001b[K     |████████████████████████████████| 54 kB 3.5 MB/s \n",
            "\u001b[K     |████████████████████████████████| 56 kB 5.3 MB/s \n",
            "\u001b[K     |████████████████████████████████| 3.3 MB 51.9 MB/s \n",
            "\u001b[K     |████████████████████████████████| 596 kB 48.3 MB/s \n",
            "\u001b[K     |████████████████████████████████| 895 kB 60.5 MB/s \n",
            "\u001b[K     |████████████████████████████████| 1.3 MB 58.6 MB/s \n",
            "\u001b[K     |████████████████████████████████| 125 kB 60.7 MB/s \n",
            "\u001b[K     |████████████████████████████████| 243 kB 60.0 MB/s \n",
            "\u001b[K     |████████████████████████████████| 271 kB 60.6 MB/s \n",
            "\u001b[K     |████████████████████████████████| 160 kB 59.9 MB/s \n",
            "\u001b[?25h"
          ]
        }
      ]
    },
    {
      "cell_type": "code",
      "metadata": {
        "id": "hlTuqC9efV9N"
      },
      "source": [
        "import tokenizers\n",
        "import transformers\n",
        "import torch\n",
        "import datasets\n",
        "import bert_score"
      ],
      "execution_count": 2,
      "outputs": []
    },
    {
      "cell_type": "code",
      "metadata": {
        "id": "KhptJ_jNfXaC",
        "outputId": "70db23c3-d2be-451f-af9b-cf0b3954ce9e",
        "colab": {
          "base_uri": "https://localhost:8080/"
        }
      },
      "source": [
        "print(transformers.__version__)\n",
        "print(tokenizers.__version__)\n",
        "print(torch.__version__)\n",
        "print(datasets.__version__)\n",
        "print(bert_score.__version__)"
      ],
      "execution_count": 3,
      "outputs": [
        {
          "output_type": "stream",
          "name": "stdout",
          "text": [
            "4.10.0\n",
            "0.10.3\n",
            "1.9.0+cu111\n",
            "1.14.0\n",
            "0.3.10\n"
          ]
        }
      ]
    }
  ]
}